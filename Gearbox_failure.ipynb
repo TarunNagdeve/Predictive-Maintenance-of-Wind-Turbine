{
  "nbformat": 4,
  "nbformat_minor": 0,
  "metadata": {
    "colab": {
      "name": "Gearbox failure.ipynb",
      "provenance": [],
      "authorship_tag": "ABX9TyOcIPz9vRYCwNJ+JwtXD81x",
      "include_colab_link": true
    },
    "kernelspec": {
      "name": "python3",
      "display_name": "Python 3"
    },
    "language_info": {
      "name": "python"
    }
  },
  "cells": [
    {
      "cell_type": "markdown",
      "metadata": {
        "id": "view-in-github",
        "colab_type": "text"
      },
      "source": [
        "<a href=\"https://colab.research.google.com/github/TrunnMosby/Predictive-Maintenance-of-Wind-Turbine/blob/main/Gearbox_failure.ipynb\" target=\"_parent\"><img src=\"https://colab.research.google.com/assets/colab-badge.svg\" alt=\"Open In Colab\"/></a>"
      ]
    },
    {
      "cell_type": "code",
      "execution_count": 25,
      "metadata": {
        "id": "w94VBG7zwSAg"
      },
      "outputs": [],
      "source": [
        "# importing libraries\n",
        "import pandas as pd\n",
        "import numpy as np"
      ]
    },
    {
      "cell_type": "code",
      "source": [
        "# importing dataset\n",
        "data=pd.read_csv('/content/Gearboxdata2 (1).csv')"
      ],
      "metadata": {
        "id": "8KwfwMIPwVF-"
      },
      "execution_count": 26,
      "outputs": []
    },
    {
      "cell_type": "code",
      "source": [
        "data"
      ],
      "metadata": {
        "colab": {
          "base_uri": "https://localhost:8080/",
          "height": 678
        },
        "id": "2Mm3sWUHxXWH",
        "outputId": "457d2e13-6609-46d2-8ec0-c7cb2b8221ec"
      },
      "execution_count": 27,
      "outputs": [
        {
          "output_type": "execute_result",
          "data": {
            "text/plain": [
              "        Unnamed: 0  Grd_RtrInvPhase2_Temp_Avg  Cont_VCP_ChokcoilTemp_Avg  \\\n",
              "0                0                         35                         99   \n",
              "1                1                         34                         80   \n",
              "2                2                         33                         92   \n",
              "3                3                         39                         89   \n",
              "4                4                         33                         75   \n",
              "...            ...                        ...                        ...   \n",
              "209231      209231                         42                         95   \n",
              "209232      209232                         33                         67   \n",
              "209233      209233                         41                         91   \n",
              "209234      209234                         33                         58   \n",
              "209235      209235                         43                        102   \n",
              "\n",
              "        Prod_LatestAvg_TotReactPwr  Rtr_RPM_Avg  Gear_Oil_Temp_Avg  \\\n",
              "0                             -212          5.7                 44   \n",
              "1                            -1455          2.4                 43   \n",
              "2                            -1958          2.6                 44   \n",
              "3                            -1194         11.1                 46   \n",
              "4                            -1388          2.6                 42   \n",
              "...                            ...          ...                ...   \n",
              "209231                      -27963         14.3                 55   \n",
              "209232                       -2105          0.0                 46   \n",
              "209233                      -30542         13.9                 55   \n",
              "209234                       -2099          0.0                 46   \n",
              "209235                      -34284         14.3                 54   \n",
              "\n",
              "        Gen_RPM_Avg  Gear_Bear_Temp_Avg  Unnamed: 8                       Date  \n",
              "0             647.1                  47         NaN  2017-12-29T20:30:00+00:00  \n",
              "1             265.5                  44         NaN  2017-12-29T20:30:00+00:00  \n",
              "2             293.1                  46         NaN  2017-12-29T20:40:00+00:00  \n",
              "3            1248.8                  48         NaN  2017-12-29T20:40:00+00:00  \n",
              "4             291.4                  43         NaN  2017-12-29T20:40:00+00:00  \n",
              "...             ...                 ...         ...                        ...  \n",
              "209231       1619.8                  60         NaN  2017-05-31T10:50:00+00:00  \n",
              "209232          0.0                  46         NaN  2017-06-03T00:20:00+00:00  \n",
              "209233       1565.7                  64         NaN  2017-05-31T11:10:00+00:00  \n",
              "209234          0.0                  44         NaN  2017-06-03T00:50:00+00:00  \n",
              "209235       1619.7                  64         NaN  2017-02-15T18:40:00+00:00  \n",
              "\n",
              "[209236 rows x 10 columns]"
            ],
            "text/html": [
              "\n",
              "  <div id=\"df-b87dfd72-e246-4c5f-96c0-3b375ef05e7e\">\n",
              "    <div class=\"colab-df-container\">\n",
              "      <div>\n",
              "<style scoped>\n",
              "    .dataframe tbody tr th:only-of-type {\n",
              "        vertical-align: middle;\n",
              "    }\n",
              "\n",
              "    .dataframe tbody tr th {\n",
              "        vertical-align: top;\n",
              "    }\n",
              "\n",
              "    .dataframe thead th {\n",
              "        text-align: right;\n",
              "    }\n",
              "</style>\n",
              "<table border=\"1\" class=\"dataframe\">\n",
              "  <thead>\n",
              "    <tr style=\"text-align: right;\">\n",
              "      <th></th>\n",
              "      <th>Unnamed: 0</th>\n",
              "      <th>Grd_RtrInvPhase2_Temp_Avg</th>\n",
              "      <th>Cont_VCP_ChokcoilTemp_Avg</th>\n",
              "      <th>Prod_LatestAvg_TotReactPwr</th>\n",
              "      <th>Rtr_RPM_Avg</th>\n",
              "      <th>Gear_Oil_Temp_Avg</th>\n",
              "      <th>Gen_RPM_Avg</th>\n",
              "      <th>Gear_Bear_Temp_Avg</th>\n",
              "      <th>Unnamed: 8</th>\n",
              "      <th>Date</th>\n",
              "    </tr>\n",
              "  </thead>\n",
              "  <tbody>\n",
              "    <tr>\n",
              "      <th>0</th>\n",
              "      <td>0</td>\n",
              "      <td>35</td>\n",
              "      <td>99</td>\n",
              "      <td>-212</td>\n",
              "      <td>5.7</td>\n",
              "      <td>44</td>\n",
              "      <td>647.1</td>\n",
              "      <td>47</td>\n",
              "      <td>NaN</td>\n",
              "      <td>2017-12-29T20:30:00+00:00</td>\n",
              "    </tr>\n",
              "    <tr>\n",
              "      <th>1</th>\n",
              "      <td>1</td>\n",
              "      <td>34</td>\n",
              "      <td>80</td>\n",
              "      <td>-1455</td>\n",
              "      <td>2.4</td>\n",
              "      <td>43</td>\n",
              "      <td>265.5</td>\n",
              "      <td>44</td>\n",
              "      <td>NaN</td>\n",
              "      <td>2017-12-29T20:30:00+00:00</td>\n",
              "    </tr>\n",
              "    <tr>\n",
              "      <th>2</th>\n",
              "      <td>2</td>\n",
              "      <td>33</td>\n",
              "      <td>92</td>\n",
              "      <td>-1958</td>\n",
              "      <td>2.6</td>\n",
              "      <td>44</td>\n",
              "      <td>293.1</td>\n",
              "      <td>46</td>\n",
              "      <td>NaN</td>\n",
              "      <td>2017-12-29T20:40:00+00:00</td>\n",
              "    </tr>\n",
              "    <tr>\n",
              "      <th>3</th>\n",
              "      <td>3</td>\n",
              "      <td>39</td>\n",
              "      <td>89</td>\n",
              "      <td>-1194</td>\n",
              "      <td>11.1</td>\n",
              "      <td>46</td>\n",
              "      <td>1248.8</td>\n",
              "      <td>48</td>\n",
              "      <td>NaN</td>\n",
              "      <td>2017-12-29T20:40:00+00:00</td>\n",
              "    </tr>\n",
              "    <tr>\n",
              "      <th>4</th>\n",
              "      <td>4</td>\n",
              "      <td>33</td>\n",
              "      <td>75</td>\n",
              "      <td>-1388</td>\n",
              "      <td>2.6</td>\n",
              "      <td>42</td>\n",
              "      <td>291.4</td>\n",
              "      <td>43</td>\n",
              "      <td>NaN</td>\n",
              "      <td>2017-12-29T20:40:00+00:00</td>\n",
              "    </tr>\n",
              "    <tr>\n",
              "      <th>...</th>\n",
              "      <td>...</td>\n",
              "      <td>...</td>\n",
              "      <td>...</td>\n",
              "      <td>...</td>\n",
              "      <td>...</td>\n",
              "      <td>...</td>\n",
              "      <td>...</td>\n",
              "      <td>...</td>\n",
              "      <td>...</td>\n",
              "      <td>...</td>\n",
              "    </tr>\n",
              "    <tr>\n",
              "      <th>209231</th>\n",
              "      <td>209231</td>\n",
              "      <td>42</td>\n",
              "      <td>95</td>\n",
              "      <td>-27963</td>\n",
              "      <td>14.3</td>\n",
              "      <td>55</td>\n",
              "      <td>1619.8</td>\n",
              "      <td>60</td>\n",
              "      <td>NaN</td>\n",
              "      <td>2017-05-31T10:50:00+00:00</td>\n",
              "    </tr>\n",
              "    <tr>\n",
              "      <th>209232</th>\n",
              "      <td>209232</td>\n",
              "      <td>33</td>\n",
              "      <td>67</td>\n",
              "      <td>-2105</td>\n",
              "      <td>0.0</td>\n",
              "      <td>46</td>\n",
              "      <td>0.0</td>\n",
              "      <td>46</td>\n",
              "      <td>NaN</td>\n",
              "      <td>2017-06-03T00:20:00+00:00</td>\n",
              "    </tr>\n",
              "    <tr>\n",
              "      <th>209233</th>\n",
              "      <td>209233</td>\n",
              "      <td>41</td>\n",
              "      <td>91</td>\n",
              "      <td>-30542</td>\n",
              "      <td>13.9</td>\n",
              "      <td>55</td>\n",
              "      <td>1565.7</td>\n",
              "      <td>64</td>\n",
              "      <td>NaN</td>\n",
              "      <td>2017-05-31T11:10:00+00:00</td>\n",
              "    </tr>\n",
              "    <tr>\n",
              "      <th>209234</th>\n",
              "      <td>209234</td>\n",
              "      <td>33</td>\n",
              "      <td>58</td>\n",
              "      <td>-2099</td>\n",
              "      <td>0.0</td>\n",
              "      <td>46</td>\n",
              "      <td>0.0</td>\n",
              "      <td>44</td>\n",
              "      <td>NaN</td>\n",
              "      <td>2017-06-03T00:50:00+00:00</td>\n",
              "    </tr>\n",
              "    <tr>\n",
              "      <th>209235</th>\n",
              "      <td>209235</td>\n",
              "      <td>43</td>\n",
              "      <td>102</td>\n",
              "      <td>-34284</td>\n",
              "      <td>14.3</td>\n",
              "      <td>54</td>\n",
              "      <td>1619.7</td>\n",
              "      <td>64</td>\n",
              "      <td>NaN</td>\n",
              "      <td>2017-02-15T18:40:00+00:00</td>\n",
              "    </tr>\n",
              "  </tbody>\n",
              "</table>\n",
              "<p>209236 rows × 10 columns</p>\n",
              "</div>\n",
              "      <button class=\"colab-df-convert\" onclick=\"convertToInteractive('df-b87dfd72-e246-4c5f-96c0-3b375ef05e7e')\"\n",
              "              title=\"Convert this dataframe to an interactive table.\"\n",
              "              style=\"display:none;\">\n",
              "        \n",
              "  <svg xmlns=\"http://www.w3.org/2000/svg\" height=\"24px\"viewBox=\"0 0 24 24\"\n",
              "       width=\"24px\">\n",
              "    <path d=\"M0 0h24v24H0V0z\" fill=\"none\"/>\n",
              "    <path d=\"M18.56 5.44l.94 2.06.94-2.06 2.06-.94-2.06-.94-.94-2.06-.94 2.06-2.06.94zm-11 1L8.5 8.5l.94-2.06 2.06-.94-2.06-.94L8.5 2.5l-.94 2.06-2.06.94zm10 10l.94 2.06.94-2.06 2.06-.94-2.06-.94-.94-2.06-.94 2.06-2.06.94z\"/><path d=\"M17.41 7.96l-1.37-1.37c-.4-.4-.92-.59-1.43-.59-.52 0-1.04.2-1.43.59L10.3 9.45l-7.72 7.72c-.78.78-.78 2.05 0 2.83L4 21.41c.39.39.9.59 1.41.59.51 0 1.02-.2 1.41-.59l7.78-7.78 2.81-2.81c.8-.78.8-2.07 0-2.86zM5.41 20L4 18.59l7.72-7.72 1.47 1.35L5.41 20z\"/>\n",
              "  </svg>\n",
              "      </button>\n",
              "      \n",
              "  <style>\n",
              "    .colab-df-container {\n",
              "      display:flex;\n",
              "      flex-wrap:wrap;\n",
              "      gap: 12px;\n",
              "    }\n",
              "\n",
              "    .colab-df-convert {\n",
              "      background-color: #E8F0FE;\n",
              "      border: none;\n",
              "      border-radius: 50%;\n",
              "      cursor: pointer;\n",
              "      display: none;\n",
              "      fill: #1967D2;\n",
              "      height: 32px;\n",
              "      padding: 0 0 0 0;\n",
              "      width: 32px;\n",
              "    }\n",
              "\n",
              "    .colab-df-convert:hover {\n",
              "      background-color: #E2EBFA;\n",
              "      box-shadow: 0px 1px 2px rgba(60, 64, 67, 0.3), 0px 1px 3px 1px rgba(60, 64, 67, 0.15);\n",
              "      fill: #174EA6;\n",
              "    }\n",
              "\n",
              "    [theme=dark] .colab-df-convert {\n",
              "      background-color: #3B4455;\n",
              "      fill: #D2E3FC;\n",
              "    }\n",
              "\n",
              "    [theme=dark] .colab-df-convert:hover {\n",
              "      background-color: #434B5C;\n",
              "      box-shadow: 0px 1px 3px 1px rgba(0, 0, 0, 0.15);\n",
              "      filter: drop-shadow(0px 1px 2px rgba(0, 0, 0, 0.3));\n",
              "      fill: #FFFFFF;\n",
              "    }\n",
              "  </style>\n",
              "\n",
              "      <script>\n",
              "        const buttonEl =\n",
              "          document.querySelector('#df-b87dfd72-e246-4c5f-96c0-3b375ef05e7e button.colab-df-convert');\n",
              "        buttonEl.style.display =\n",
              "          google.colab.kernel.accessAllowed ? 'block' : 'none';\n",
              "\n",
              "        async function convertToInteractive(key) {\n",
              "          const element = document.querySelector('#df-b87dfd72-e246-4c5f-96c0-3b375ef05e7e');\n",
              "          const dataTable =\n",
              "            await google.colab.kernel.invokeFunction('convertToInteractive',\n",
              "                                                     [key], {});\n",
              "          if (!dataTable) return;\n",
              "\n",
              "          const docLinkHtml = 'Like what you see? Visit the ' +\n",
              "            '<a target=\"_blank\" href=https://colab.research.google.com/notebooks/data_table.ipynb>data table notebook</a>'\n",
              "            + ' to learn more about interactive tables.';\n",
              "          element.innerHTML = '';\n",
              "          dataTable['output_type'] = 'display_data';\n",
              "          await google.colab.output.renderOutput(dataTable, element);\n",
              "          const docLink = document.createElement('div');\n",
              "          docLink.innerHTML = docLinkHtml;\n",
              "          element.appendChild(docLink);\n",
              "        }\n",
              "      </script>\n",
              "    </div>\n",
              "  </div>\n",
              "  "
            ]
          },
          "metadata": {},
          "execution_count": 27
        }
      ]
    },
    {
      "cell_type": "code",
      "source": [
        "data=data.drop('Unnamed: 8',axis=1)"
      ],
      "metadata": {
        "id": "P-XbuiEdx1BI"
      },
      "execution_count": 28,
      "outputs": []
    },
    {
      "cell_type": "code",
      "source": [
        "import matplotlib.pyplot as plt"
      ],
      "metadata": {
        "id": "Y9nWnFURxYsC"
      },
      "execution_count": 29,
      "outputs": []
    },
    {
      "cell_type": "code",
      "source": [
        "# Mahanabolis distance filteration\n",
        "MD=pd.read_csv('/content/MD_newdata.csv')"
      ],
      "metadata": {
        "id": "BSfZORWrxbI_"
      },
      "execution_count": 30,
      "outputs": []
    },
    {
      "cell_type": "code",
      "source": [
        "# Merging both datasets\n",
        "df= pd.merge(data,MD)"
      ],
      "metadata": {
        "id": "AxwQm_gzxcdv"
      },
      "execution_count": 31,
      "outputs": []
    },
    {
      "cell_type": "code",
      "source": [
        "# Removing the null values\n",
        "df=df.dropna()"
      ],
      "metadata": {
        "id": "ehObXQKRxeIT"
      },
      "execution_count": 32,
      "outputs": []
    },
    {
      "cell_type": "code",
      "source": [
        "df=df[df['Prod_LatestAvg_TotReactPwr']!=0]"
      ],
      "metadata": {
        "id": "Cu0PjjaqxfWR"
      },
      "execution_count": 33,
      "outputs": []
    },
    {
      "cell_type": "code",
      "source": [
        "df=df.drop('Date',axis=1)"
      ],
      "metadata": {
        "id": "yWzNbZDAyIbo"
      },
      "execution_count": 34,
      "outputs": []
    },
    {
      "cell_type": "code",
      "source": [
        "# Filtering outliers\n",
        "max_threshold=df['MD'].quantile(0.85)\n",
        "min_threshold=df['MD'].quantile(0.15)"
      ],
      "metadata": {
        "id": "A6sQWx-Fxgn_"
      },
      "execution_count": 35,
      "outputs": []
    },
    {
      "cell_type": "code",
      "source": [
        "ftest=df[(df['MD']<max_threshold) & (df['MD']>min_threshold)]"
      ],
      "metadata": {
        "id": "24sT164Wxmev"
      },
      "execution_count": 36,
      "outputs": []
    },
    {
      "cell_type": "code",
      "source": [
        "ftest"
      ],
      "metadata": {
        "colab": {
          "base_uri": "https://localhost:8080/",
          "height": 505
        },
        "id": "qgyGY_-kxoBA",
        "outputId": "685d4700-e2e7-4916-dc53-cb86546b9b00"
      },
      "execution_count": 37,
      "outputs": [
        {
          "output_type": "execute_result",
          "data": {
            "text/plain": [
              "        Unnamed: 0  Grd_RtrInvPhase2_Temp_Avg  Cont_VCP_ChokcoilTemp_Avg  \\\n",
              "0                1                         34                         80   \n",
              "1                2                         33                         92   \n",
              "2                3                         39                         89   \n",
              "3                4                         33                         75   \n",
              "4                5                         39                         82   \n",
              "...            ...                        ...                        ...   \n",
              "209228      209229                         43                        103   \n",
              "209229      209230                         34                         48   \n",
              "209230      209231                         42                         95   \n",
              "209232      209233                         41                         91   \n",
              "209233      209234                         33                         58   \n",
              "\n",
              "        Prod_LatestAvg_TotReactPwr  Rtr_RPM_Avg  Gear_Oil_Temp_Avg  \\\n",
              "0                            -1455          2.4                 43   \n",
              "1                            -1958          2.6                 44   \n",
              "2                            -1194         11.1                 46   \n",
              "3                            -1388          2.6                 42   \n",
              "4                             -968          8.5                 45   \n",
              "...                            ...          ...                ...   \n",
              "209228                      -27968         14.5                 53   \n",
              "209229                       -1480          0.0                 45   \n",
              "209230                      -27963         14.3                 55   \n",
              "209232                      -30542         13.9                 55   \n",
              "209233                       -2099          0.0                 46   \n",
              "\n",
              "        Gen_RPM_Avg  Gear_Bear_Temp_Avg        MD  \n",
              "0             265.5                  44  2.799417  \n",
              "1             293.1                  46  3.030315  \n",
              "2            1248.8                  48  3.707309  \n",
              "3             291.4                  43  2.459624  \n",
              "4             957.8                  50  3.522508  \n",
              "...             ...                 ...       ...  \n",
              "209228       1637.7                  60  3.213454  \n",
              "209229          0.0                  44  3.425543  \n",
              "209230       1619.8                  60  4.709864  \n",
              "209232       1565.7                  64  6.503370  \n",
              "209233          0.0                  44  1.883051  \n",
              "\n",
              "[146436 rows x 9 columns]"
            ],
            "text/html": [
              "\n",
              "  <div id=\"df-526a5dbb-58b1-4fea-acd9-b85fca090678\">\n",
              "    <div class=\"colab-df-container\">\n",
              "      <div>\n",
              "<style scoped>\n",
              "    .dataframe tbody tr th:only-of-type {\n",
              "        vertical-align: middle;\n",
              "    }\n",
              "\n",
              "    .dataframe tbody tr th {\n",
              "        vertical-align: top;\n",
              "    }\n",
              "\n",
              "    .dataframe thead th {\n",
              "        text-align: right;\n",
              "    }\n",
              "</style>\n",
              "<table border=\"1\" class=\"dataframe\">\n",
              "  <thead>\n",
              "    <tr style=\"text-align: right;\">\n",
              "      <th></th>\n",
              "      <th>Unnamed: 0</th>\n",
              "      <th>Grd_RtrInvPhase2_Temp_Avg</th>\n",
              "      <th>Cont_VCP_ChokcoilTemp_Avg</th>\n",
              "      <th>Prod_LatestAvg_TotReactPwr</th>\n",
              "      <th>Rtr_RPM_Avg</th>\n",
              "      <th>Gear_Oil_Temp_Avg</th>\n",
              "      <th>Gen_RPM_Avg</th>\n",
              "      <th>Gear_Bear_Temp_Avg</th>\n",
              "      <th>MD</th>\n",
              "    </tr>\n",
              "  </thead>\n",
              "  <tbody>\n",
              "    <tr>\n",
              "      <th>0</th>\n",
              "      <td>1</td>\n",
              "      <td>34</td>\n",
              "      <td>80</td>\n",
              "      <td>-1455</td>\n",
              "      <td>2.4</td>\n",
              "      <td>43</td>\n",
              "      <td>265.5</td>\n",
              "      <td>44</td>\n",
              "      <td>2.799417</td>\n",
              "    </tr>\n",
              "    <tr>\n",
              "      <th>1</th>\n",
              "      <td>2</td>\n",
              "      <td>33</td>\n",
              "      <td>92</td>\n",
              "      <td>-1958</td>\n",
              "      <td>2.6</td>\n",
              "      <td>44</td>\n",
              "      <td>293.1</td>\n",
              "      <td>46</td>\n",
              "      <td>3.030315</td>\n",
              "    </tr>\n",
              "    <tr>\n",
              "      <th>2</th>\n",
              "      <td>3</td>\n",
              "      <td>39</td>\n",
              "      <td>89</td>\n",
              "      <td>-1194</td>\n",
              "      <td>11.1</td>\n",
              "      <td>46</td>\n",
              "      <td>1248.8</td>\n",
              "      <td>48</td>\n",
              "      <td>3.707309</td>\n",
              "    </tr>\n",
              "    <tr>\n",
              "      <th>3</th>\n",
              "      <td>4</td>\n",
              "      <td>33</td>\n",
              "      <td>75</td>\n",
              "      <td>-1388</td>\n",
              "      <td>2.6</td>\n",
              "      <td>42</td>\n",
              "      <td>291.4</td>\n",
              "      <td>43</td>\n",
              "      <td>2.459624</td>\n",
              "    </tr>\n",
              "    <tr>\n",
              "      <th>4</th>\n",
              "      <td>5</td>\n",
              "      <td>39</td>\n",
              "      <td>82</td>\n",
              "      <td>-968</td>\n",
              "      <td>8.5</td>\n",
              "      <td>45</td>\n",
              "      <td>957.8</td>\n",
              "      <td>50</td>\n",
              "      <td>3.522508</td>\n",
              "    </tr>\n",
              "    <tr>\n",
              "      <th>...</th>\n",
              "      <td>...</td>\n",
              "      <td>...</td>\n",
              "      <td>...</td>\n",
              "      <td>...</td>\n",
              "      <td>...</td>\n",
              "      <td>...</td>\n",
              "      <td>...</td>\n",
              "      <td>...</td>\n",
              "      <td>...</td>\n",
              "    </tr>\n",
              "    <tr>\n",
              "      <th>209228</th>\n",
              "      <td>209229</td>\n",
              "      <td>43</td>\n",
              "      <td>103</td>\n",
              "      <td>-27968</td>\n",
              "      <td>14.5</td>\n",
              "      <td>53</td>\n",
              "      <td>1637.7</td>\n",
              "      <td>60</td>\n",
              "      <td>3.213454</td>\n",
              "    </tr>\n",
              "    <tr>\n",
              "      <th>209229</th>\n",
              "      <td>209230</td>\n",
              "      <td>34</td>\n",
              "      <td>48</td>\n",
              "      <td>-1480</td>\n",
              "      <td>0.0</td>\n",
              "      <td>45</td>\n",
              "      <td>0.0</td>\n",
              "      <td>44</td>\n",
              "      <td>3.425543</td>\n",
              "    </tr>\n",
              "    <tr>\n",
              "      <th>209230</th>\n",
              "      <td>209231</td>\n",
              "      <td>42</td>\n",
              "      <td>95</td>\n",
              "      <td>-27963</td>\n",
              "      <td>14.3</td>\n",
              "      <td>55</td>\n",
              "      <td>1619.8</td>\n",
              "      <td>60</td>\n",
              "      <td>4.709864</td>\n",
              "    </tr>\n",
              "    <tr>\n",
              "      <th>209232</th>\n",
              "      <td>209233</td>\n",
              "      <td>41</td>\n",
              "      <td>91</td>\n",
              "      <td>-30542</td>\n",
              "      <td>13.9</td>\n",
              "      <td>55</td>\n",
              "      <td>1565.7</td>\n",
              "      <td>64</td>\n",
              "      <td>6.503370</td>\n",
              "    </tr>\n",
              "    <tr>\n",
              "      <th>209233</th>\n",
              "      <td>209234</td>\n",
              "      <td>33</td>\n",
              "      <td>58</td>\n",
              "      <td>-2099</td>\n",
              "      <td>0.0</td>\n",
              "      <td>46</td>\n",
              "      <td>0.0</td>\n",
              "      <td>44</td>\n",
              "      <td>1.883051</td>\n",
              "    </tr>\n",
              "  </tbody>\n",
              "</table>\n",
              "<p>146436 rows × 9 columns</p>\n",
              "</div>\n",
              "      <button class=\"colab-df-convert\" onclick=\"convertToInteractive('df-526a5dbb-58b1-4fea-acd9-b85fca090678')\"\n",
              "              title=\"Convert this dataframe to an interactive table.\"\n",
              "              style=\"display:none;\">\n",
              "        \n",
              "  <svg xmlns=\"http://www.w3.org/2000/svg\" height=\"24px\"viewBox=\"0 0 24 24\"\n",
              "       width=\"24px\">\n",
              "    <path d=\"M0 0h24v24H0V0z\" fill=\"none\"/>\n",
              "    <path d=\"M18.56 5.44l.94 2.06.94-2.06 2.06-.94-2.06-.94-.94-2.06-.94 2.06-2.06.94zm-11 1L8.5 8.5l.94-2.06 2.06-.94-2.06-.94L8.5 2.5l-.94 2.06-2.06.94zm10 10l.94 2.06.94-2.06 2.06-.94-2.06-.94-.94-2.06-.94 2.06-2.06.94z\"/><path d=\"M17.41 7.96l-1.37-1.37c-.4-.4-.92-.59-1.43-.59-.52 0-1.04.2-1.43.59L10.3 9.45l-7.72 7.72c-.78.78-.78 2.05 0 2.83L4 21.41c.39.39.9.59 1.41.59.51 0 1.02-.2 1.41-.59l7.78-7.78 2.81-2.81c.8-.78.8-2.07 0-2.86zM5.41 20L4 18.59l7.72-7.72 1.47 1.35L5.41 20z\"/>\n",
              "  </svg>\n",
              "      </button>\n",
              "      \n",
              "  <style>\n",
              "    .colab-df-container {\n",
              "      display:flex;\n",
              "      flex-wrap:wrap;\n",
              "      gap: 12px;\n",
              "    }\n",
              "\n",
              "    .colab-df-convert {\n",
              "      background-color: #E8F0FE;\n",
              "      border: none;\n",
              "      border-radius: 50%;\n",
              "      cursor: pointer;\n",
              "      display: none;\n",
              "      fill: #1967D2;\n",
              "      height: 32px;\n",
              "      padding: 0 0 0 0;\n",
              "      width: 32px;\n",
              "    }\n",
              "\n",
              "    .colab-df-convert:hover {\n",
              "      background-color: #E2EBFA;\n",
              "      box-shadow: 0px 1px 2px rgba(60, 64, 67, 0.3), 0px 1px 3px 1px rgba(60, 64, 67, 0.15);\n",
              "      fill: #174EA6;\n",
              "    }\n",
              "\n",
              "    [theme=dark] .colab-df-convert {\n",
              "      background-color: #3B4455;\n",
              "      fill: #D2E3FC;\n",
              "    }\n",
              "\n",
              "    [theme=dark] .colab-df-convert:hover {\n",
              "      background-color: #434B5C;\n",
              "      box-shadow: 0px 1px 3px 1px rgba(0, 0, 0, 0.15);\n",
              "      filter: drop-shadow(0px 1px 2px rgba(0, 0, 0, 0.3));\n",
              "      fill: #FFFFFF;\n",
              "    }\n",
              "  </style>\n",
              "\n",
              "      <script>\n",
              "        const buttonEl =\n",
              "          document.querySelector('#df-526a5dbb-58b1-4fea-acd9-b85fca090678 button.colab-df-convert');\n",
              "        buttonEl.style.display =\n",
              "          google.colab.kernel.accessAllowed ? 'block' : 'none';\n",
              "\n",
              "        async function convertToInteractive(key) {\n",
              "          const element = document.querySelector('#df-526a5dbb-58b1-4fea-acd9-b85fca090678');\n",
              "          const dataTable =\n",
              "            await google.colab.kernel.invokeFunction('convertToInteractive',\n",
              "                                                     [key], {});\n",
              "          if (!dataTable) return;\n",
              "\n",
              "          const docLinkHtml = 'Like what you see? Visit the ' +\n",
              "            '<a target=\"_blank\" href=https://colab.research.google.com/notebooks/data_table.ipynb>data table notebook</a>'\n",
              "            + ' to learn more about interactive tables.';\n",
              "          element.innerHTML = '';\n",
              "          dataTable['output_type'] = 'display_data';\n",
              "          await google.colab.output.renderOutput(dataTable, element);\n",
              "          const docLink = document.createElement('div');\n",
              "          docLink.innerHTML = docLinkHtml;\n",
              "          element.appendChild(docLink);\n",
              "        }\n",
              "      </script>\n",
              "    </div>\n",
              "  </div>\n",
              "  "
            ]
          },
          "metadata": {},
          "execution_count": 37
        }
      ]
    },
    {
      "cell_type": "code",
      "source": [
        "# Selecting input and output for training the model\n",
        "features=ftest[['Grd_RtrInvPhase2_Temp_Avg', 'Cont_VCP_ChokcoilTemp_Avg',\t'Prod_LatestAvg_TotReactPwr',\t'Rtr_RPM_Avg',\t'Gear_Oil_Temp_Avg',\t'Gen_RPM_Avg'\t]]\n",
        "labels=ftest['Gear_Bear_Temp_Avg']"
      ],
      "metadata": {
        "id": "VnrQH32jxpo1"
      },
      "execution_count": 38,
      "outputs": []
    },
    {
      "cell_type": "code",
      "source": [
        "# Normalizing the data\n",
        "from sklearn.preprocessing import StandardScaler\n",
        "sc=StandardScaler()\n",
        "x_sc=sc.fit_transform(features)"
      ],
      "metadata": {
        "id": "BYgEkTJuxrOh"
      },
      "execution_count": 39,
      "outputs": []
    },
    {
      "cell_type": "code",
      "source": [
        "# Spliting the data into 70% train and 30% test\n",
        "xtrain=x_sc[:102505]\n",
        "xtest=x_sc[102505:]\n",
        "ytrain=labels[:102505]\n",
        "ytest=labels[102505:]"
      ],
      "metadata": {
        "id": "IfmX6WZtyfVj"
      },
      "execution_count": 40,
      "outputs": []
    },
    {
      "cell_type": "code",
      "source": [
        "from sklearn.ensemble import RandomForestRegressor\n",
        "from sklearn.metrics import mean_squared_error as mse\n",
        "from sklearn.metrics import mean_absolute_error as mae"
      ],
      "metadata": {
        "id": "cP16vZ_vyhyQ"
      },
      "execution_count": 41,
      "outputs": []
    },
    {
      "cell_type": "code",
      "source": [
        "# training the random forest model\n",
        "gmodel=RandomForestRegressor()\n",
        "gmodel.fit(xtrain,ytrain)\n",
        "pred=gmodel.predict(xtest)\n",
        "train_pred= gmodel.predict(xtrain)"
      ],
      "metadata": {
        "id": "dPrjuvgGyjVb"
      },
      "execution_count": 42,
      "outputs": []
    },
    {
      "cell_type": "code",
      "source": [
        "# RMSE\n",
        "print(np.sqrt(mse(pred,ytest)))"
      ],
      "metadata": {
        "colab": {
          "base_uri": "https://localhost:8080/"
        },
        "id": "kFNtgD5Dykqw",
        "outputId": "f5a223b8-e618-4c1d-a45e-69ce8075a646"
      },
      "execution_count": 43,
      "outputs": [
        {
          "output_type": "stream",
          "name": "stdout",
          "text": [
            "1.0822796414478666\n"
          ]
        }
      ]
    },
    {
      "cell_type": "code",
      "source": [
        "#MAE\n",
        "print((mae(pred,ytest)))"
      ],
      "metadata": {
        "colab": {
          "base_uri": "https://localhost:8080/"
        },
        "id": "7g11zL87yw1I",
        "outputId": "c76835e7-532b-433c-f0e7-8f171ddccd05"
      },
      "execution_count": 44,
      "outputs": [
        {
          "output_type": "stream",
          "name": "stdout",
          "text": [
            "0.7787414155193456\n"
          ]
        }
      ]
    },
    {
      "cell_type": "code",
      "source": [
        "# Testing the model over random data points\n",
        "plt.plot([i for i in range(len(pred[::500]))],ytest[::500],linestyle='dashed',color='black',linewidth=0.8)\n",
        "\n",
        "plt.scatter([i for i in range(len(pred[::500]))],pred[::500],marker='*')\n",
        "\n",
        "\n",
        "plt.legend(['Measured','RF'])\n",
        "plt.ylabel('Temp(°C)')\n",
        "plt.xlabel('Count')\n",
        "plt.title('Analysed over random data points, '+'Time period: 15-08-2017 to 01-01-2018')\n",
        "plt.figure(figsize=(20, 20))"
      ],
      "metadata": {
        "colab": {
          "base_uri": "https://localhost:8080/",
          "height": 330
        },
        "id": "gJsoIFwRyyTq",
        "outputId": "7f19b504-1625-4b71-dcdb-5767ddb96fb1"
      },
      "execution_count": 45,
      "outputs": [
        {
          "output_type": "execute_result",
          "data": {
            "text/plain": [
              "<Figure size 1440x1440 with 0 Axes>"
            ]
          },
          "metadata": {},
          "execution_count": 45
        },
        {
          "output_type": "display_data",
          "data": {
            "text/plain": [
              "<Figure size 432x288 with 1 Axes>"
            ],
            "image/png": "[encoded data removed]"
          },
          "metadata": {
            "needs_background": "light"
          }
        },
        {
          "output_type": "display_data",
          "data": {
            "text/plain": [
              "<Figure size 1440x1440 with 0 Axes>"
            ]
          },
          "metadata": {}
        }
      ]
    },
    {
      "cell_type": "code",
      "source": [
        "# Creating a dataframe to note the deviations\n",
        "deviation=[]\n",
        "\n",
        "for i,j in zip(pred,ytest):\n",
        "  deviation.append(j-i)"
      ],
      "metadata": {
        "id": "I4VUBlWFyz_o"
      },
      "execution_count": 46,
      "outputs": []
    },
    {
      "cell_type": "code",
      "source": [
        "f=pd.DataFrame({'Deviations':deviation})"
      ],
      "metadata": {
        "id": "xNLpK30-y3V6"
      },
      "execution_count": 47,
      "outputs": []
    },
    {
      "cell_type": "code",
      "source": [
        "f['Deviations_shift']=f['Deviations'].shift(1)"
      ],
      "metadata": {
        "id": "HALgKb6Dy4q3"
      },
      "execution_count": 48,
      "outputs": []
    },
    {
      "cell_type": "code",
      "source": [
        "f['difference']=f['Deviations'].diff()"
      ],
      "metadata": {
        "id": "AbliozD2y6By"
      },
      "execution_count": 49,
      "outputs": []
    },
    {
      "cell_type": "code",
      "source": [
        "count= [i for i in range(len(ytest))]"
      ],
      "metadata": {
        "id": "IowQjbJry7aZ"
      },
      "execution_count": 50,
      "outputs": []
    },
    {
      "cell_type": "code",
      "source": [
        "f=f.dropna()"
      ],
      "metadata": {
        "id": "X5AJuwi-y8uJ"
      },
      "execution_count": 51,
      "outputs": []
    },
    {
      "cell_type": "code",
      "source": [
        "values=[]\n",
        "for i in f['difference']:\n",
        "  if(i>0):\n",
        "    values.append(i)\n",
        "  else:\n",
        "    values.append(-1*i)"
      ],
      "metadata": {
        "id": "YYHLnHY1y-jx"
      },
      "execution_count": 52,
      "outputs": []
    },
    {
      "cell_type": "code",
      "source": [
        "ucl=3* np.std(f['Deviations'])\n",
        "lcl=-1*ucl"
      ],
      "metadata": {
        "id": "1NAI0U3GzAHf"
      },
      "execution_count": 53,
      "outputs": []
    },
    {
      "cell_type": "code",
      "source": [
        "UCL=[]\n",
        "for i in range(23000):\n",
        "  UCL.append(ucl)"
      ],
      "metadata": {
        "id": "aAbs4_p4zCEw"
      },
      "execution_count": 54,
      "outputs": []
    },
    {
      "cell_type": "code",
      "source": [
        "LCL=[]\n",
        "for i in range(23000):\n",
        "  LCL.append(lcl)"
      ],
      "metadata": {
        "id": "87OBxTCUzDbh"
      },
      "execution_count": 55,
      "outputs": []
    },
    {
      "cell_type": "code",
      "source": [
        "# Ploting Predctions for Gearbox failure\n",
        "r=[i for i in f['Deviations'].iloc[12000:35000]]\n",
        "plt.plot(r,color=\"black\",linewidth=0.4)\n",
        "plt.plot(UCL)\n",
        "plt.plot(LCL)\n",
        "plt.xticks(np.arange(0, len(r)+1, 10000))\n",
        "plt.ylabel('Deviations in Temp(°C)')\n",
        "plt.xlabel('Units')\n",
        "plt.legend(['Deviations','UCL','LCL'])\n",
        "plt.title('Predictions using RF for Gearbox failure '+ '(On x-axis:1440 units= 10 days)  '+'Time period: 15-08-2017 to 01-01-2018' )"
      ],
      "metadata": {
        "colab": {
          "base_uri": "https://localhost:8080/",
          "height": 312
        },
        "id": "V0i0r1OYzEr6",
        "outputId": "5eaf3d89-31ca-4da9-c931-180c5714cb8e"
      },
      "execution_count": 61,
      "outputs": [
        {
          "output_type": "execute_result",
          "data": {
            "text/plain": [
              "Text(0.5, 1.0, 'Predictions using RF for Gearbox failure (On x-axis:1440 units= 10 days)  Time period: 15-08-2017 to 01-01-2018')"
            ]
          },
          "metadata": {},
          "execution_count": 61
        },
        {
          "output_type": "display_data",
          "data": {
            "text/plain": [
              "<Figure size 432x288 with 1 Axes>"
            ],
            "image/png": "[encoded data removed]"
          },
          "metadata": {
            "needs_background": "light"
          }
        }
      ]
    },
    {
      "cell_type": "code",
      "source": [
        ""
      ],
      "metadata": {
        "id": "Mo5qHVSIzQn4"
      },
      "execution_count": null,
      "outputs": []
    }
  ]
}