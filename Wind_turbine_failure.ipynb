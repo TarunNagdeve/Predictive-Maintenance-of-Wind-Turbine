{
  "nbformat": 4,
  "nbformat_minor": 0,
  "metadata": {
    "colab": {
      "name": "Wind turbine failure.ipynb",
      "provenance": [],
      "authorship_tag": "ABX9TyObG1IrsmOdLx8sSXq+Wj8O",
      "include_colab_link": true
    },
    "kernelspec": {
      "name": "python3",
      "display_name": "Python 3"
    },
    "language_info": {
      "name": "python"
    }
  },
  "cells": [
    {
      "cell_type": "markdown",
      "metadata": {
        "id": "view-in-github",
        "colab_type": "text"
      },
      "source": [
        "<a href=\"https://colab.research.google.com/github/TrunnMosby/Predictive-Maintenance-of-Wind-Turbine/blob/main/Wind_turbine_failure.ipynb\" target=\"_parent\"><img src=\"https://colab.research.google.com/assets/colab-badge.svg\" alt=\"Open In Colab\"/></a>"
      ]
    },
    {
      "cell_type": "code",
      "execution_count": 1,
      "metadata": {
        "id": "RqkpN-WH4qVA"
      },
      "outputs": [],
      "source": [
        "# importing libraries\n",
        "import pandas as pd\n",
        "import numpy as np"
      ]
    },
    {
      "cell_type": "code",
      "source": [
        "# importing dataset\n",
        "data=pd.read_csv('/content/hypothesis_3.csv')"
      ],
      "metadata": {
        "id": "PLbtjnQP4s4F"
      },
      "execution_count": 2,
      "outputs": []
    },
    {
      "cell_type": "code",
      "source": [
        "import matplotlib.pyplot as plt"
      ],
      "metadata": {
        "id": "fy7WJIrF53Uf"
      },
      "execution_count": 3,
      "outputs": []
    },
    {
      "cell_type": "code",
      "source": [
        "# Mahanabolis distance filteration\n",
        "MD=pd.read_csv('/content/MD_newdata.csv')"
      ],
      "metadata": {
        "id": "Z6HjQ_Cv57Os"
      },
      "execution_count": 4,
      "outputs": []
    },
    {
      "cell_type": "code",
      "source": [
        "# Merging both datasets\n",
        "df= pd.merge(data,MD)"
      ],
      "metadata": {
        "id": "8y18yJIY5-hY"
      },
      "execution_count": 5,
      "outputs": []
    },
    {
      "cell_type": "code",
      "source": [
        "# Removing the null values\n",
        "df=df.dropna()"
      ],
      "metadata": {
        "id": "0D-wxcKP6ZT6"
      },
      "execution_count": 6,
      "outputs": []
    },
    {
      "cell_type": "code",
      "source": [
        "df=df.drop('Date',axis=1)"
      ],
      "metadata": {
        "id": "8nSRx1Fg6a9I"
      },
      "execution_count": 7,
      "outputs": []
    },
    {
      "cell_type": "code",
      "source": [
        "df"
      ],
      "metadata": {
        "colab": {
          "base_uri": "https://localhost:8080/",
          "height": 505
        },
        "id": "LQOpw64F6hFM",
        "outputId": "95408257-2ba2-40b7-c4e4-02ea6243ca7a"
      },
      "execution_count": 8,
      "outputs": [
        {
          "output_type": "execute_result",
          "data": {
            "text/plain": [
              "        Unnamed: 0  Gen_Phase1_Temp_Avg  Amb_WindSpeed_Est_Avg  \\\n",
              "0                1                   54                    3.1   \n",
              "1                2                   53                    3.4   \n",
              "2                3                   63                    3.7   \n",
              "3                4                   51                    3.3   \n",
              "4                5                   57                    3.3   \n",
              "...            ...                  ...                    ...   \n",
              "209230      209231                   89                    8.7   \n",
              "209231      209232                   45                    1.3   \n",
              "209232      209233                   72                    7.9   \n",
              "209233      209234                   41                    2.6   \n",
              "209234      209235                   95                    9.0   \n",
              "\n",
              "        Prod_CurPhse1_Avg  Amb_WindSpeed_Avg  Prod_LatestAvg_TotActPwr  \\\n",
              "0                    10.0                3.1                   -1390.0   \n",
              "1                    11.0                3.4                   -1619.0   \n",
              "2                    90.1                3.5                    4862.0   \n",
              "3                    10.0                3.3                   -1365.0   \n",
              "4                    89.1                3.2                    4702.0   \n",
              "...                   ...                ...                       ...   \n",
              "209230              969.1                9.0                  192110.0   \n",
              "209231               11.7                1.3                   -1842.0   \n",
              "209232              737.5                8.0                  143336.0   \n",
              "209233               11.6                2.6                   -1828.0   \n",
              "209234             1051.3                9.0                  206419.0   \n",
              "\n",
              "        Grd_Prod_Pwr_Avg  Grd_Prod_PsblePwr_Avg  Prod_LatestAvg_ActPwrGen1  \\\n",
              "0                   -8.4                    0.6                        0.0   \n",
              "1                   -9.7                    1.6                        0.0   \n",
              "2                   29.2                   29.2                     4862.0   \n",
              "3                   -8.2                    2.2                        0.0   \n",
              "4                   27.7                   32.4                     5430.0   \n",
              "...                  ...                    ...                        ...   \n",
              "209230            1153.3                 1155.1                   192110.0   \n",
              "209231             -11.0                    0.0                        0.0   \n",
              "209232             861.1                  859.7                   143336.0   \n",
              "209233             -11.0                    2.0                        0.0   \n",
              "209234            1237.7                 1229.4                   206419.0   \n",
              "\n",
              "         ID        MD  \n",
              "0       T01  2.799417  \n",
              "1       T06  3.030315  \n",
              "2       T07  3.707309  \n",
              "3       T01  2.459624  \n",
              "4       T11  3.522508  \n",
              "...     ...       ...  \n",
              "209230  T01  4.709864  \n",
              "209231  T06  1.306276  \n",
              "209232  T11  6.503370  \n",
              "209233  T06  1.883051  \n",
              "209234  T11  6.808654  \n",
              "\n",
              "[209235 rows x 11 columns]"
            ],
            "text/html": [
              "\n",
              "  <div id=\"df-f50d99a8-68e1-4ffd-979e-c7752e06e265\">\n",
              "    <div class=\"colab-df-container\">\n",
              "      <div>\n",
              "<style scoped>\n",
              "    .dataframe tbody tr th:only-of-type {\n",
              "        vertical-align: middle;\n",
              "    }\n",
              "\n",
              "    .dataframe tbody tr th {\n",
              "        vertical-align: top;\n",
              "    }\n",
              "\n",
              "    .dataframe thead th {\n",
              "        text-align: right;\n",
              "    }\n",
              "</style>\n",
              "<table border=\"1\" class=\"dataframe\">\n",
              "  <thead>\n",
              "    <tr style=\"text-align: right;\">\n",
              "      <th></th>\n",
              "      <th>Unnamed: 0</th>\n",
              "      <th>Gen_Phase1_Temp_Avg</th>\n",
              "      <th>Amb_WindSpeed_Est_Avg</th>\n",
              "      <th>Prod_CurPhse1_Avg</th>\n",
              "      <th>Amb_WindSpeed_Avg</th>\n",
              "      <th>Prod_LatestAvg_TotActPwr</th>\n",
              "      <th>Grd_Prod_Pwr_Avg</th>\n",
              "      <th>Grd_Prod_PsblePwr_Avg</th>\n",
              "      <th>Prod_LatestAvg_ActPwrGen1</th>\n",
              "      <th>ID</th>\n",
              "      <th>MD</th>\n",
              "    </tr>\n",
              "  </thead>\n",
              "  <tbody>\n",
              "    <tr>\n",
              "      <th>0</th>\n",
              "      <td>1</td>\n",
              "      <td>54</td>\n",
              "      <td>3.1</td>\n",
              "      <td>10.0</td>\n",
              "      <td>3.1</td>\n",
              "      <td>-1390.0</td>\n",
              "      <td>-8.4</td>\n",
              "      <td>0.6</td>\n",
              "      <td>0.0</td>\n",
              "      <td>T01</td>\n",
              "      <td>2.799417</td>\n",
              "    </tr>\n",
              "    <tr>\n",
              "      <th>1</th>\n",
              "      <td>2</td>\n",
              "      <td>53</td>\n",
              "      <td>3.4</td>\n",
              "      <td>11.0</td>\n",
              "      <td>3.4</td>\n",
              "      <td>-1619.0</td>\n",
              "      <td>-9.7</td>\n",
              "      <td>1.6</td>\n",
              "      <td>0.0</td>\n",
              "      <td>T06</td>\n",
              "      <td>3.030315</td>\n",
              "    </tr>\n",
              "    <tr>\n",
              "      <th>2</th>\n",
              "      <td>3</td>\n",
              "      <td>63</td>\n",
              "      <td>3.7</td>\n",
              "      <td>90.1</td>\n",
              "      <td>3.5</td>\n",
              "      <td>4862.0</td>\n",
              "      <td>29.2</td>\n",
              "      <td>29.2</td>\n",
              "      <td>4862.0</td>\n",
              "      <td>T07</td>\n",
              "      <td>3.707309</td>\n",
              "    </tr>\n",
              "    <tr>\n",
              "      <th>3</th>\n",
              "      <td>4</td>\n",
              "      <td>51</td>\n",
              "      <td>3.3</td>\n",
              "      <td>10.0</td>\n",
              "      <td>3.3</td>\n",
              "      <td>-1365.0</td>\n",
              "      <td>-8.2</td>\n",
              "      <td>2.2</td>\n",
              "      <td>0.0</td>\n",
              "      <td>T01</td>\n",
              "      <td>2.459624</td>\n",
              "    </tr>\n",
              "    <tr>\n",
              "      <th>4</th>\n",
              "      <td>5</td>\n",
              "      <td>57</td>\n",
              "      <td>3.3</td>\n",
              "      <td>89.1</td>\n",
              "      <td>3.2</td>\n",
              "      <td>4702.0</td>\n",
              "      <td>27.7</td>\n",
              "      <td>32.4</td>\n",
              "      <td>5430.0</td>\n",
              "      <td>T11</td>\n",
              "      <td>3.522508</td>\n",
              "    </tr>\n",
              "    <tr>\n",
              "      <th>...</th>\n",
              "      <td>...</td>\n",
              "      <td>...</td>\n",
              "      <td>...</td>\n",
              "      <td>...</td>\n",
              "      <td>...</td>\n",
              "      <td>...</td>\n",
              "      <td>...</td>\n",
              "      <td>...</td>\n",
              "      <td>...</td>\n",
              "      <td>...</td>\n",
              "      <td>...</td>\n",
              "    </tr>\n",
              "    <tr>\n",
              "      <th>209230</th>\n",
              "      <td>209231</td>\n",
              "      <td>89</td>\n",
              "      <td>8.7</td>\n",
              "      <td>969.1</td>\n",
              "      <td>9.0</td>\n",
              "      <td>192110.0</td>\n",
              "      <td>1153.3</td>\n",
              "      <td>1155.1</td>\n",
              "      <td>192110.0</td>\n",
              "      <td>T01</td>\n",
              "      <td>4.709864</td>\n",
              "    </tr>\n",
              "    <tr>\n",
              "      <th>209231</th>\n",
              "      <td>209232</td>\n",
              "      <td>45</td>\n",
              "      <td>1.3</td>\n",
              "      <td>11.7</td>\n",
              "      <td>1.3</td>\n",
              "      <td>-1842.0</td>\n",
              "      <td>-11.0</td>\n",
              "      <td>0.0</td>\n",
              "      <td>0.0</td>\n",
              "      <td>T06</td>\n",
              "      <td>1.306276</td>\n",
              "    </tr>\n",
              "    <tr>\n",
              "      <th>209232</th>\n",
              "      <td>209233</td>\n",
              "      <td>72</td>\n",
              "      <td>7.9</td>\n",
              "      <td>737.5</td>\n",
              "      <td>8.0</td>\n",
              "      <td>143336.0</td>\n",
              "      <td>861.1</td>\n",
              "      <td>859.7</td>\n",
              "      <td>143336.0</td>\n",
              "      <td>T11</td>\n",
              "      <td>6.503370</td>\n",
              "    </tr>\n",
              "    <tr>\n",
              "      <th>209233</th>\n",
              "      <td>209234</td>\n",
              "      <td>41</td>\n",
              "      <td>2.6</td>\n",
              "      <td>11.6</td>\n",
              "      <td>2.6</td>\n",
              "      <td>-1828.0</td>\n",
              "      <td>-11.0</td>\n",
              "      <td>2.0</td>\n",
              "      <td>0.0</td>\n",
              "      <td>T06</td>\n",
              "      <td>1.883051</td>\n",
              "    </tr>\n",
              "    <tr>\n",
              "      <th>209234</th>\n",
              "      <td>209235</td>\n",
              "      <td>95</td>\n",
              "      <td>9.0</td>\n",
              "      <td>1051.3</td>\n",
              "      <td>9.0</td>\n",
              "      <td>206419.0</td>\n",
              "      <td>1237.7</td>\n",
              "      <td>1229.4</td>\n",
              "      <td>206419.0</td>\n",
              "      <td>T11</td>\n",
              "      <td>6.808654</td>\n",
              "    </tr>\n",
              "  </tbody>\n",
              "</table>\n",
              "<p>209235 rows × 11 columns</p>\n",
              "</div>\n",
              "      <button class=\"colab-df-convert\" onclick=\"convertToInteractive('df-f50d99a8-68e1-4ffd-979e-c7752e06e265')\"\n",
              "              title=\"Convert this dataframe to an interactive table.\"\n",
              "              style=\"display:none;\">\n",
              "        \n",
              "  <svg xmlns=\"http://www.w3.org/2000/svg\" height=\"24px\"viewBox=\"0 0 24 24\"\n",
              "       width=\"24px\">\n",
              "    <path d=\"M0 0h24v24H0V0z\" fill=\"none\"/>\n",
              "    <path d=\"M18.56 5.44l.94 2.06.94-2.06 2.06-.94-2.06-.94-.94-2.06-.94 2.06-2.06.94zm-11 1L8.5 8.5l.94-2.06 2.06-.94-2.06-.94L8.5 2.5l-.94 2.06-2.06.94zm10 10l.94 2.06.94-2.06 2.06-.94-2.06-.94-.94-2.06-.94 2.06-2.06.94z\"/><path d=\"M17.41 7.96l-1.37-1.37c-.4-.4-.92-.59-1.43-.59-.52 0-1.04.2-1.43.59L10.3 9.45l-7.72 7.72c-.78.78-.78 2.05 0 2.83L4 21.41c.39.39.9.59 1.41.59.51 0 1.02-.2 1.41-.59l7.78-7.78 2.81-2.81c.8-.78.8-2.07 0-2.86zM5.41 20L4 18.59l7.72-7.72 1.47 1.35L5.41 20z\"/>\n",
              "  </svg>\n",
              "      </button>\n",
              "      \n",
              "  <style>\n",
              "    .colab-df-container {\n",
              "      display:flex;\n",
              "      flex-wrap:wrap;\n",
              "      gap: 12px;\n",
              "    }\n",
              "\n",
              "    .colab-df-convert {\n",
              "      background-color: #E8F0FE;\n",
              "      border: none;\n",
              "      border-radius: 50%;\n",
              "      cursor: pointer;\n",
              "      display: none;\n",
              "      fill: #1967D2;\n",
              "      height: 32px;\n",
              "      padding: 0 0 0 0;\n",
              "      width: 32px;\n",
              "    }\n",
              "\n",
              "    .colab-df-convert:hover {\n",
              "      background-color: #E2EBFA;\n",
              "      box-shadow: 0px 1px 2px rgba(60, 64, 67, 0.3), 0px 1px 3px 1px rgba(60, 64, 67, 0.15);\n",
              "      fill: #174EA6;\n",
              "    }\n",
              "\n",
              "    [theme=dark] .colab-df-convert {\n",
              "      background-color: #3B4455;\n",
              "      fill: #D2E3FC;\n",
              "    }\n",
              "\n",
              "    [theme=dark] .colab-df-convert:hover {\n",
              "      background-color: #434B5C;\n",
              "      box-shadow: 0px 1px 3px 1px rgba(0, 0, 0, 0.15);\n",
              "      filter: drop-shadow(0px 1px 2px rgba(0, 0, 0, 0.3));\n",
              "      fill: #FFFFFF;\n",
              "    }\n",
              "  </style>\n",
              "\n",
              "      <script>\n",
              "        const buttonEl =\n",
              "          document.querySelector('#df-f50d99a8-68e1-4ffd-979e-c7752e06e265 button.colab-df-convert');\n",
              "        buttonEl.style.display =\n",
              "          google.colab.kernel.accessAllowed ? 'block' : 'none';\n",
              "\n",
              "        async function convertToInteractive(key) {\n",
              "          const element = document.querySelector('#df-f50d99a8-68e1-4ffd-979e-c7752e06e265');\n",
              "          const dataTable =\n",
              "            await google.colab.kernel.invokeFunction('convertToInteractive',\n",
              "                                                     [key], {});\n",
              "          if (!dataTable) return;\n",
              "\n",
              "          const docLinkHtml = 'Like what you see? Visit the ' +\n",
              "            '<a target=\"_blank\" href=https://colab.research.google.com/notebooks/data_table.ipynb>data table notebook</a>'\n",
              "            + ' to learn more about interactive tables.';\n",
              "          element.innerHTML = '';\n",
              "          dataTable['output_type'] = 'display_data';\n",
              "          await google.colab.output.renderOutput(dataTable, element);\n",
              "          const docLink = document.createElement('div');\n",
              "          docLink.innerHTML = docLinkHtml;\n",
              "          element.appendChild(docLink);\n",
              "        }\n",
              "      </script>\n",
              "    </div>\n",
              "  </div>\n",
              "  "
            ]
          },
          "metadata": {},
          "execution_count": 8
        }
      ]
    },
    {
      "cell_type": "code",
      "source": [
        "df=df[df['Prod_LatestAvg_TotActPwr']!=0]"
      ],
      "metadata": {
        "id": "V4qlL-Aa6cNk"
      },
      "execution_count": 9,
      "outputs": []
    },
    {
      "cell_type": "code",
      "source": [
        "# Filtering outliers\n",
        "max_threshold=df['MD'].quantile(0.85)\n",
        "min_threshold=df['MD'].quantile(0.15)"
      ],
      "metadata": {
        "id": "zwP590B_6djM"
      },
      "execution_count": 10,
      "outputs": []
    },
    {
      "cell_type": "code",
      "source": [
        "ftest=df[(df['MD']<max_threshold) & (df['MD']>min_threshold)]"
      ],
      "metadata": {
        "id": "gW2bd0h46mod"
      },
      "execution_count": 11,
      "outputs": []
    },
    {
      "cell_type": "code",
      "source": [
        "ftest"
      ],
      "metadata": {
        "colab": {
          "base_uri": "https://localhost:8080/",
          "height": 505
        },
        "id": "cVIg-x_k6n5M",
        "outputId": "5174642a-a4c5-4c01-9297-6afef8cde537"
      },
      "execution_count": 12,
      "outputs": [
        {
          "output_type": "execute_result",
          "data": {
            "text/plain": [
              "        Unnamed: 0  Gen_Phase1_Temp_Avg  Amb_WindSpeed_Est_Avg  \\\n",
              "0                1                   54                    3.1   \n",
              "1                2                   53                    3.4   \n",
              "2                3                   63                    3.7   \n",
              "3                4                   51                    3.3   \n",
              "4                5                   57                    3.3   \n",
              "...            ...                  ...                    ...   \n",
              "209228      209229                   96                    9.4   \n",
              "209229      209230                   41                    1.0   \n",
              "209230      209231                   89                    8.7   \n",
              "209232      209233                   72                    7.9   \n",
              "209233      209234                   41                    2.6   \n",
              "\n",
              "        Prod_CurPhse1_Avg  Amb_WindSpeed_Avg  Prod_LatestAvg_TotActPwr  \\\n",
              "0                    10.0                3.1                   -1390.0   \n",
              "1                    11.0                3.4                   -1619.0   \n",
              "2                    90.1                3.5                    4862.0   \n",
              "3                    10.0                3.3                   -1365.0   \n",
              "4                    89.1                3.2                    4702.0   \n",
              "...                   ...                ...                       ...   \n",
              "209228             1162.2                9.8                  231292.0   \n",
              "209229               11.8                1.0                   -1734.0   \n",
              "209230              969.1                9.0                  192110.0   \n",
              "209232              737.5                8.0                  143336.0   \n",
              "209233               11.6                2.6                   -1828.0   \n",
              "\n",
              "        Grd_Prod_Pwr_Avg  Grd_Prod_PsblePwr_Avg  Prod_LatestAvg_ActPwrGen1  \\\n",
              "0                   -8.4                    0.6                        0.0   \n",
              "1                   -9.7                    1.6                        0.0   \n",
              "2                   29.2                   29.2                     4862.0   \n",
              "3                   -8.2                    2.2                        0.0   \n",
              "4                   27.7                   32.4                     5430.0   \n",
              "...                  ...                    ...                        ...   \n",
              "209228            1388.9                 1391.8                   231292.0   \n",
              "209229             -10.5                    0.0                        0.0   \n",
              "209230            1153.3                 1155.1                   192110.0   \n",
              "209232             861.1                  859.7                   143336.0   \n",
              "209233             -11.0                    2.0                        0.0   \n",
              "\n",
              "         ID        MD  \n",
              "0       T01  2.799417  \n",
              "1       T06  3.030315  \n",
              "2       T07  3.707309  \n",
              "3       T01  2.459624  \n",
              "4       T11  3.522508  \n",
              "...     ...       ...  \n",
              "209228  T07  3.213454  \n",
              "209229  T01  3.425543  \n",
              "209230  T01  4.709864  \n",
              "209232  T11  6.503370  \n",
              "209233  T06  1.883051  \n",
              "\n",
              "[146460 rows x 11 columns]"
            ],
            "text/html": [
              "\n",
              "  <div id=\"df-857a95b6-9499-43e8-8c42-d5618b384776\">\n",
              "    <div class=\"colab-df-container\">\n",
              "      <div>\n",
              "<style scoped>\n",
              "    .dataframe tbody tr th:only-of-type {\n",
              "        vertical-align: middle;\n",
              "    }\n",
              "\n",
              "    .dataframe tbody tr th {\n",
              "        vertical-align: top;\n",
              "    }\n",
              "\n",
              "    .dataframe thead th {\n",
              "        text-align: right;\n",
              "    }\n",
              "</style>\n",
              "<table border=\"1\" class=\"dataframe\">\n",
              "  <thead>\n",
              "    <tr style=\"text-align: right;\">\n",
              "      <th></th>\n",
              "      <th>Unnamed: 0</th>\n",
              "      <th>Gen_Phase1_Temp_Avg</th>\n",
              "      <th>Amb_WindSpeed_Est_Avg</th>\n",
              "      <th>Prod_CurPhse1_Avg</th>\n",
              "      <th>Amb_WindSpeed_Avg</th>\n",
              "      <th>Prod_LatestAvg_TotActPwr</th>\n",
              "      <th>Grd_Prod_Pwr_Avg</th>\n",
              "      <th>Grd_Prod_PsblePwr_Avg</th>\n",
              "      <th>Prod_LatestAvg_ActPwrGen1</th>\n",
              "      <th>ID</th>\n",
              "      <th>MD</th>\n",
              "    </tr>\n",
              "  </thead>\n",
              "  <tbody>\n",
              "    <tr>\n",
              "      <th>0</th>\n",
              "      <td>1</td>\n",
              "      <td>54</td>\n",
              "      <td>3.1</td>\n",
              "      <td>10.0</td>\n",
              "      <td>3.1</td>\n",
              "      <td>-1390.0</td>\n",
              "      <td>-8.4</td>\n",
              "      <td>0.6</td>\n",
              "      <td>0.0</td>\n",
              "      <td>T01</td>\n",
              "      <td>2.799417</td>\n",
              "    </tr>\n",
              "    <tr>\n",
              "      <th>1</th>\n",
              "      <td>2</td>\n",
              "      <td>53</td>\n",
              "      <td>3.4</td>\n",
              "      <td>11.0</td>\n",
              "      <td>3.4</td>\n",
              "      <td>-1619.0</td>\n",
              "      <td>-9.7</td>\n",
              "      <td>1.6</td>\n",
              "      <td>0.0</td>\n",
              "      <td>T06</td>\n",
              "      <td>3.030315</td>\n",
              "    </tr>\n",
              "    <tr>\n",
              "      <th>2</th>\n",
              "      <td>3</td>\n",
              "      <td>63</td>\n",
              "      <td>3.7</td>\n",
              "      <td>90.1</td>\n",
              "      <td>3.5</td>\n",
              "      <td>4862.0</td>\n",
              "      <td>29.2</td>\n",
              "      <td>29.2</td>\n",
              "      <td>4862.0</td>\n",
              "      <td>T07</td>\n",
              "      <td>3.707309</td>\n",
              "    </tr>\n",
              "    <tr>\n",
              "      <th>3</th>\n",
              "      <td>4</td>\n",
              "      <td>51</td>\n",
              "      <td>3.3</td>\n",
              "      <td>10.0</td>\n",
              "      <td>3.3</td>\n",
              "      <td>-1365.0</td>\n",
              "      <td>-8.2</td>\n",
              "      <td>2.2</td>\n",
              "      <td>0.0</td>\n",
              "      <td>T01</td>\n",
              "      <td>2.459624</td>\n",
              "    </tr>\n",
              "    <tr>\n",
              "      <th>4</th>\n",
              "      <td>5</td>\n",
              "      <td>57</td>\n",
              "      <td>3.3</td>\n",
              "      <td>89.1</td>\n",
              "      <td>3.2</td>\n",
              "      <td>4702.0</td>\n",
              "      <td>27.7</td>\n",
              "      <td>32.4</td>\n",
              "      <td>5430.0</td>\n",
              "      <td>T11</td>\n",
              "      <td>3.522508</td>\n",
              "    </tr>\n",
              "    <tr>\n",
              "      <th>...</th>\n",
              "      <td>...</td>\n",
              "      <td>...</td>\n",
              "      <td>...</td>\n",
              "      <td>...</td>\n",
              "      <td>...</td>\n",
              "      <td>...</td>\n",
              "      <td>...</td>\n",
              "      <td>...</td>\n",
              "      <td>...</td>\n",
              "      <td>...</td>\n",
              "      <td>...</td>\n",
              "    </tr>\n",
              "    <tr>\n",
              "      <th>209228</th>\n",
              "      <td>209229</td>\n",
              "      <td>96</td>\n",
              "      <td>9.4</td>\n",
              "      <td>1162.2</td>\n",
              "      <td>9.8</td>\n",
              "      <td>231292.0</td>\n",
              "      <td>1388.9</td>\n",
              "      <td>1391.8</td>\n",
              "      <td>231292.0</td>\n",
              "      <td>T07</td>\n",
              "      <td>3.213454</td>\n",
              "    </tr>\n",
              "    <tr>\n",
              "      <th>209229</th>\n",
              "      <td>209230</td>\n",
              "      <td>41</td>\n",
              "      <td>1.0</td>\n",
              "      <td>11.8</td>\n",
              "      <td>1.0</td>\n",
              "      <td>-1734.0</td>\n",
              "      <td>-10.5</td>\n",
              "      <td>0.0</td>\n",
              "      <td>0.0</td>\n",
              "      <td>T01</td>\n",
              "      <td>3.425543</td>\n",
              "    </tr>\n",
              "    <tr>\n",
              "      <th>209230</th>\n",
              "      <td>209231</td>\n",
              "      <td>89</td>\n",
              "      <td>8.7</td>\n",
              "      <td>969.1</td>\n",
              "      <td>9.0</td>\n",
              "      <td>192110.0</td>\n",
              "      <td>1153.3</td>\n",
              "      <td>1155.1</td>\n",
              "      <td>192110.0</td>\n",
              "      <td>T01</td>\n",
              "      <td>4.709864</td>\n",
              "    </tr>\n",
              "    <tr>\n",
              "      <th>209232</th>\n",
              "      <td>209233</td>\n",
              "      <td>72</td>\n",
              "      <td>7.9</td>\n",
              "      <td>737.5</td>\n",
              "      <td>8.0</td>\n",
              "      <td>143336.0</td>\n",
              "      <td>861.1</td>\n",
              "      <td>859.7</td>\n",
              "      <td>143336.0</td>\n",
              "      <td>T11</td>\n",
              "      <td>6.503370</td>\n",
              "    </tr>\n",
              "    <tr>\n",
              "      <th>209233</th>\n",
              "      <td>209234</td>\n",
              "      <td>41</td>\n",
              "      <td>2.6</td>\n",
              "      <td>11.6</td>\n",
              "      <td>2.6</td>\n",
              "      <td>-1828.0</td>\n",
              "      <td>-11.0</td>\n",
              "      <td>2.0</td>\n",
              "      <td>0.0</td>\n",
              "      <td>T06</td>\n",
              "      <td>1.883051</td>\n",
              "    </tr>\n",
              "  </tbody>\n",
              "</table>\n",
              "<p>146460 rows × 11 columns</p>\n",
              "</div>\n",
              "      <button class=\"colab-df-convert\" onclick=\"convertToInteractive('df-857a95b6-9499-43e8-8c42-d5618b384776')\"\n",
              "              title=\"Convert this dataframe to an interactive table.\"\n",
              "              style=\"display:none;\">\n",
              "        \n",
              "  <svg xmlns=\"http://www.w3.org/2000/svg\" height=\"24px\"viewBox=\"0 0 24 24\"\n",
              "       width=\"24px\">\n",
              "    <path d=\"M0 0h24v24H0V0z\" fill=\"none\"/>\n",
              "    <path d=\"M18.56 5.44l.94 2.06.94-2.06 2.06-.94-2.06-.94-.94-2.06-.94 2.06-2.06.94zm-11 1L8.5 8.5l.94-2.06 2.06-.94-2.06-.94L8.5 2.5l-.94 2.06-2.06.94zm10 10l.94 2.06.94-2.06 2.06-.94-2.06-.94-.94-2.06-.94 2.06-2.06.94z\"/><path d=\"M17.41 7.96l-1.37-1.37c-.4-.4-.92-.59-1.43-.59-.52 0-1.04.2-1.43.59L10.3 9.45l-7.72 7.72c-.78.78-.78 2.05 0 2.83L4 21.41c.39.39.9.59 1.41.59.51 0 1.02-.2 1.41-.59l7.78-7.78 2.81-2.81c.8-.78.8-2.07 0-2.86zM5.41 20L4 18.59l7.72-7.72 1.47 1.35L5.41 20z\"/>\n",
              "  </svg>\n",
              "      </button>\n",
              "      \n",
              "  <style>\n",
              "    .colab-df-container {\n",
              "      display:flex;\n",
              "      flex-wrap:wrap;\n",
              "      gap: 12px;\n",
              "    }\n",
              "\n",
              "    .colab-df-convert {\n",
              "      background-color: #E8F0FE;\n",
              "      border: none;\n",
              "      border-radius: 50%;\n",
              "      cursor: pointer;\n",
              "      display: none;\n",
              "      fill: #1967D2;\n",
              "      height: 32px;\n",
              "      padding: 0 0 0 0;\n",
              "      width: 32px;\n",
              "    }\n",
              "\n",
              "    .colab-df-convert:hover {\n",
              "      background-color: #E2EBFA;\n",
              "      box-shadow: 0px 1px 2px rgba(60, 64, 67, 0.3), 0px 1px 3px 1px rgba(60, 64, 67, 0.15);\n",
              "      fill: #174EA6;\n",
              "    }\n",
              "\n",
              "    [theme=dark] .colab-df-convert {\n",
              "      background-color: #3B4455;\n",
              "      fill: #D2E3FC;\n",
              "    }\n",
              "\n",
              "    [theme=dark] .colab-df-convert:hover {\n",
              "      background-color: #434B5C;\n",
              "      box-shadow: 0px 1px 3px 1px rgba(0, 0, 0, 0.15);\n",
              "      filter: drop-shadow(0px 1px 2px rgba(0, 0, 0, 0.3));\n",
              "      fill: #FFFFFF;\n",
              "    }\n",
              "  </style>\n",
              "\n",
              "      <script>\n",
              "        const buttonEl =\n",
              "          document.querySelector('#df-857a95b6-9499-43e8-8c42-d5618b384776 button.colab-df-convert');\n",
              "        buttonEl.style.display =\n",
              "          google.colab.kernel.accessAllowed ? 'block' : 'none';\n",
              "\n",
              "        async function convertToInteractive(key) {\n",
              "          const element = document.querySelector('#df-857a95b6-9499-43e8-8c42-d5618b384776');\n",
              "          const dataTable =\n",
              "            await google.colab.kernel.invokeFunction('convertToInteractive',\n",
              "                                                     [key], {});\n",
              "          if (!dataTable) return;\n",
              "\n",
              "          const docLinkHtml = 'Like what you see? Visit the ' +\n",
              "            '<a target=\"_blank\" href=https://colab.research.google.com/notebooks/data_table.ipynb>data table notebook</a>'\n",
              "            + ' to learn more about interactive tables.';\n",
              "          element.innerHTML = '';\n",
              "          dataTable['output_type'] = 'display_data';\n",
              "          await google.colab.output.renderOutput(dataTable, element);\n",
              "          const docLink = document.createElement('div');\n",
              "          docLink.innerHTML = docLinkHtml;\n",
              "          element.appendChild(docLink);\n",
              "        }\n",
              "      </script>\n",
              "    </div>\n",
              "  </div>\n",
              "  "
            ]
          },
          "metadata": {},
          "execution_count": 12
        }
      ]
    },
    {
      "cell_type": "code",
      "source": [
        "# Selecting input and output for training the model\n",
        "features=ftest[['Gen_Phase1_Temp_Avg','Amb_WindSpeed_Est_Avg','Prod_CurPhse1_Avg','Amb_WindSpeed_Avg','Grd_Prod_Pwr_Avg',\t'Grd_Prod_PsblePwr_Avg',\t'Prod_LatestAvg_ActPwrGen1']]\n",
        "labels=ftest['Prod_LatestAvg_TotActPwr']"
      ],
      "metadata": {
        "id": "cVza89xR6rYz"
      },
      "execution_count": 13,
      "outputs": []
    },
    {
      "cell_type": "code",
      "source": [
        "len(features),len(labels)"
      ],
      "metadata": {
        "colab": {
          "base_uri": "https://localhost:8080/"
        },
        "id": "ThiFySti7H-J",
        "outputId": "82e5fe62-b443-4f3f-a809-b36b423a858e"
      },
      "execution_count": 14,
      "outputs": [
        {
          "output_type": "execute_result",
          "data": {
            "text/plain": [
              "(146460, 146460)"
            ]
          },
          "metadata": {},
          "execution_count": 14
        }
      ]
    },
    {
      "cell_type": "code",
      "source": [
        "P=[]\n",
        "for i in ftest['Amb_WindSpeed_Est_Avg']:\n",
        "  P.append((0.5*1.23*7854*0.59*i*i*i))"
      ],
      "metadata": {
        "id": "An1bk-1y7Ktl"
      },
      "execution_count": 15,
      "outputs": []
    },
    {
      "cell_type": "code",
      "source": [
        "from sklearn.metrics import mean_squared_error as mse\n",
        "from sklearn.metrics import mean_absolute_error as mae"
      ],
      "metadata": {
        "id": "a6MiPrQh7ZCS"
      },
      "execution_count": 16,
      "outputs": []
    },
    {
      "cell_type": "code",
      "source": [
        "print(np.sqrt(mae(ftest['Prod_LatestAvg_TotActPwr'],P)/1000))"
      ],
      "metadata": {
        "colab": {
          "base_uri": "https://localhost:8080/"
        },
        "id": "dQkcHju17MTL",
        "outputId": "60c6a18c-505f-4f32-d28f-9dd0d154e63c"
      },
      "execution_count": 17,
      "outputs": [
        {
          "output_type": "stream",
          "name": "stdout",
          "text": [
            "35.271535420021394\n"
          ]
        }
      ]
    },
    {
      "cell_type": "code",
      "source": [
        "plt.scatter([i for i in range(len(ftest.iloc[::5000]))],ftest['Prod_LatestAvg_TotActPwr'].iloc[::5000])\n",
        "plt.scatter([i for i in range(len(ftest.iloc[::5000]))],P[::5000])\n",
        "\n",
        "\n",
        "plt.legend(['Measured','Analytical Predictions'])\n",
        "plt.ylabel('Power [kW]')\n",
        "plt.xlabel('Count')\n",
        "plt.title('Analysed over 16 random data points, '+'Time period: 01-01-2017 to 01-01-2018')\n",
        "plt.figure(figsize=(20, 20))"
      ],
      "metadata": {
        "colab": {
          "base_uri": "https://localhost:8080/",
          "height": 330
        },
        "id": "L9CKFH_H7sVX",
        "outputId": "f31af925-426b-41c0-a8b8-6a8ebcd79007"
      },
      "execution_count": 18,
      "outputs": [
        {
          "output_type": "execute_result",
          "data": {
            "text/plain": [
              "<Figure size 1440x1440 with 0 Axes>"
            ]
          },
          "metadata": {},
          "execution_count": 18
        },
        {
          "output_type": "display_data",
          "data": {
            "text/plain": [
              "<Figure size 432x288 with 1 Axes>"
            ],
            "image/png": "[encoded data removed]"
          },
          "metadata": {
            "needs_background": "light"
          }
        },
        {
          "output_type": "display_data",
          "data": {
            "text/plain": [
              "<Figure size 1440x1440 with 0 Axes>"
            ]
          },
          "metadata": {}
        }
      ]
    },
    {
      "cell_type": "code",
      "source": [
        "# Normalizing the data\n",
        "from sklearn.preprocessing import StandardScaler\n",
        "sc=StandardScaler()\n",
        "x_sc=sc.fit_transform(features)"
      ],
      "metadata": {
        "id": "CQHQoK757wNy"
      },
      "execution_count": 19,
      "outputs": []
    },
    {
      "cell_type": "code",
      "source": [
        "len(x_sc)"
      ],
      "metadata": {
        "colab": {
          "base_uri": "https://localhost:8080/"
        },
        "id": "j_awxTsQ7yoQ",
        "outputId": "61708a7d-d29b-430b-a2da-400d9af62412"
      },
      "execution_count": 20,
      "outputs": [
        {
          "output_type": "execute_result",
          "data": {
            "text/plain": [
              "146460"
            ]
          },
          "metadata": {},
          "execution_count": 20
        }
      ]
    },
    {
      "cell_type": "code",
      "source": [
        "# Spliting the data into 70% train and 30% test\n",
        "xtrain=x_sc[:102505]\n",
        "xtest=x_sc[102505:]\n",
        "ytrain=labels[:102505]\n",
        "ytest=labels[102505:]"
      ],
      "metadata": {
        "id": "Yat8BBWi70zJ"
      },
      "execution_count": 21,
      "outputs": []
    },
    {
      "cell_type": "code",
      "source": [
        "from sklearn.preprocessing import PolynomialFeatures\n",
        "from sklearn import linear_model\n",
        "poly = PolynomialFeatures(degree=6)\n",
        "poly_variables = poly.fit_transform(features)"
      ],
      "metadata": {
        "id": "4HXrJhyR7_c2"
      },
      "execution_count": 22,
      "outputs": []
    },
    {
      "cell_type": "code",
      "source": [
        "regression = linear_model.LinearRegression()\n",
        "regression.fit(xtrain,ytrain)\n",
        "regression_pred=regression.predict(xtest)"
      ],
      "metadata": {
        "id": "BrF43l348G0G"
      },
      "execution_count": 23,
      "outputs": []
    },
    {
      "cell_type": "code",
      "source": [
        "test_deviation_poly=[]\n",
        "for i,j in zip(regression_pred,ytest):\n",
        "  test_deviation_poly.append(j-i)"
      ],
      "metadata": {
        "id": "Oy6nG-yo8ISv"
      },
      "execution_count": 24,
      "outputs": []
    },
    {
      "cell_type": "code",
      "source": [
        "updated_poly=[]\n",
        "for i in test_deviation_poly:\n",
        "  updated_poly.append(i/1000)"
      ],
      "metadata": {
        "id": "z6U_lZ8D8JmU"
      },
      "execution_count": 25,
      "outputs": []
    },
    {
      "cell_type": "code",
      "source": [
        "ucl_non=4*np.std(updated_poly)\n",
        "lcl_non=-1*ucl_non"
      ],
      "metadata": {
        "id": "MjrIlaGd8Lf-"
      },
      "execution_count": 26,
      "outputs": []
    },
    {
      "cell_type": "code",
      "source": [
        "LCL_non=[]\n",
        "for i in range(len(ytest)):\n",
        "  LCL_non.append(lcl_non)\n",
        "UCL_non=[]\n",
        "for i in range(len(ytest)):\n",
        "  UCL_non.append(ucl_non)"
      ],
      "metadata": {
        "id": "Lqnf2D-p8Myj"
      },
      "execution_count": 27,
      "outputs": []
    },
    {
      "cell_type": "code",
      "source": [
        "# training the Non-linear model\n",
        "plt.plot(updated_poly,color='black',linewidth=0.4)\n",
        "plt.plot(UCL_non)\n",
        "plt.plot(LCL_non)\n",
        "plt.ylabel('Deviations[kW]')\n",
        "plt.xlabel('Count')\n",
        "plt.legend(['Deviations','UCL','LCL'])\n",
        "plt.xticks(np.arange(0, len(updated_poly)+1, 10000))\n",
        "plt.title('Predictions using Non-linear model  '+' (On x-axis:1440units= 10 days)')"
      ],
      "metadata": {
        "colab": {
          "base_uri": "https://localhost:8080/",
          "height": 312
        },
        "id": "wgWXegzz8OKv",
        "outputId": "58329cff-d259-4725-9594-1bf1b8841878"
      },
      "execution_count": 28,
      "outputs": [
        {
          "output_type": "execute_result",
          "data": {
            "text/plain": [
              "Text(0.5, 1.0, 'Predictions using Non-linear model   (On x-axis:1440units= 10 days)')"
            ]
          },
          "metadata": {},
          "execution_count": 28
        },
        {
          "output_type": "display_data",
          "data": {
            "text/plain": [
              "<Figure size 432x288 with 1 Axes>"
            ],
            "image/png": "[encoded data removed]"
          },
          "metadata": {
            "needs_background": "light"
          }
        }
      ]
    },
    {
      "cell_type": "code",
      "source": [
        "from sklearn.metrics import mean_squared_error as mse\n",
        "print(np.sqrt(mse(regression_pred,ytest))/1000)"
      ],
      "metadata": {
        "colab": {
          "base_uri": "https://localhost:8080/"
        },
        "id": "5Qlv02bi8Pq4",
        "outputId": "70b091ee-80f6-4cab-eac2-bb6a2bb992d2"
      },
      "execution_count": 29,
      "outputs": [
        {
          "output_type": "stream",
          "name": "stdout",
          "text": [
            "0.40668558123655235\n"
          ]
        }
      ]
    },
    {
      "cell_type": "code",
      "source": [
        "from sklearn.metrics import mean_absolute_error as mae\n",
        "print(mae(ytest,regression_pred))"
      ],
      "metadata": {
        "colab": {
          "base_uri": "https://localhost:8080/"
        },
        "id": "5hhxxQK18euW",
        "outputId": "dcd73cfd-0ff3-48f0-cd5e-307091a9e2f8"
      },
      "execution_count": 30,
      "outputs": [
        {
          "output_type": "stream",
          "name": "stdout",
          "text": [
            "246.12509735369633\n"
          ]
        }
      ]
    },
    {
      "cell_type": "code",
      "source": [
        "from sklearn.ensemble import RandomForestRegressor,AdaBoostRegressor,GradientBoostingRegressor"
      ],
      "metadata": {
        "id": "cebCX2wX8gQT"
      },
      "execution_count": 31,
      "outputs": []
    },
    {
      "cell_type": "code",
      "source": [
        "# training the random forest model\n",
        "gmodel=RandomForestRegressor()\n",
        "gmodel.fit(xtrain,ytrain)\n",
        "pred=gmodel.predict(xtest)\n",
        "train_pred= gmodel.predict(xtrain)"
      ],
      "metadata": {
        "id": "GVNcMinO8jfW"
      },
      "execution_count": 32,
      "outputs": []
    },
    {
      "cell_type": "code",
      "source": [
        "print(np.sqrt(mse(pred,ytest))/1000)"
      ],
      "metadata": {
        "colab": {
          "base_uri": "https://localhost:8080/"
        },
        "id": "UdPGAHRB8l14",
        "outputId": "ab11d6f6-75d9-45a8-af4b-5194e64c105b"
      },
      "execution_count": 61,
      "outputs": [
        {
          "output_type": "stream",
          "name": "stdout",
          "text": [
            "0.19048263034045318\n"
          ]
        }
      ]
    },
    {
      "cell_type": "code",
      "source": [
        "pred_scaled=[]\n",
        "for i in pred:\n",
        "  pred_scaled.append(i/1000)"
      ],
      "metadata": {
        "id": "MrRNNG1C82Kv"
      },
      "execution_count": 62,
      "outputs": []
    },
    {
      "cell_type": "code",
      "source": [
        "from sklearn.neighbors import KNeighborsRegressor\n",
        "from sklearn.svm import LinearSVR,SVR"
      ],
      "metadata": {
        "id": "aQlPuP0P9Q3V"
      },
      "execution_count": 63,
      "outputs": []
    },
    {
      "cell_type": "code",
      "source": [
        "# training the K Neighbors model\n",
        "kmodel=KNeighborsRegressor()\n",
        "kmodel.fit(xtrain,ytrain)\n",
        "pred_kmodel=kmodel.predict(xtest)"
      ],
      "metadata": {
        "id": "pcKD7cc-9Wde"
      },
      "execution_count": 64,
      "outputs": []
    },
    {
      "cell_type": "code",
      "source": [
        "# training the SVR model\n",
        "svmodel=SVR()\n",
        "svmodel.fit(xtrain,ytrain)\n",
        "pred_svmodel=svmodel.predict(xtest)"
      ],
      "metadata": {
        "id": "l6p3lFU29f2H"
      },
      "execution_count": 65,
      "outputs": []
    },
    {
      "cell_type": "code",
      "source": [
        "pred_kmodel_scaled=[]\n",
        "for i in pred_kmodel:\n",
        "  pred_kmodel_scaled.append(i/1000)"
      ],
      "metadata": {
        "id": "HAEaekaM9I47"
      },
      "execution_count": 66,
      "outputs": []
    },
    {
      "cell_type": "code",
      "source": [
        "print((mae(pred_kmodel,ytest))/1000)"
      ],
      "metadata": {
        "colab": {
          "base_uri": "https://localhost:8080/"
        },
        "id": "Zwim83EI-cw2",
        "outputId": "be9022bf-cc87-4261-a99f-ab51096614e2"
      },
      "execution_count": 60,
      "outputs": [
        {
          "output_type": "stream",
          "name": "stdout",
          "text": [
            "0.4626715003981344\n"
          ]
        }
      ]
    },
    {
      "cell_type": "code",
      "source": [
        "pred_svmodel_scaled=[]\n",
        "for i in pred_svmodel:\n",
        "  pred_svmodel_scaled.append(i/1000)"
      ],
      "metadata": {
        "id": "0BOOhctG9pog"
      },
      "execution_count": 61,
      "outputs": []
    },
    {
      "cell_type": "code",
      "source": [
        "print((mae(pred_svmodel,ytest))/1000)"
      ],
      "metadata": {
        "colab": {
          "base_uri": "https://localhost:8080/"
        },
        "id": "V6mNf_oo-fDj",
        "outputId": "f9b745c6-daa6-4005-e643-37175876ee42"
      },
      "execution_count": 62,
      "outputs": [
        {
          "output_type": "stream",
          "name": "stdout",
          "text": [
            "64.30918282105395\n"
          ]
        }
      ]
    },
    {
      "cell_type": "code",
      "source": [
        "regression_pred_scaled=[]\n",
        "for i in regression_pred:\n",
        "  regression_pred_scaled.append(i/1000)"
      ],
      "metadata": {
        "id": "FhuN1H-X9r1d"
      },
      "execution_count": 63,
      "outputs": []
    },
    {
      "cell_type": "code",
      "source": [
        "ytest_scaled=[]\n",
        "for i in ytest:\n",
        "  ytest_scaled.append(i/1000)"
      ],
      "metadata": {
        "id": "C8xzRPxi9tWe"
      },
      "execution_count": 64,
      "outputs": []
    },
    {
      "cell_type": "code",
      "source": [
        "plt.plot([i for i in range(len(pred[::500]))],ytest[::500],linestyle='dashed',color='black',linewidth=0.8)\n",
        "#plt.scatter([i for i in range(len(pred[::500]))],ytest[::500],marker='<')\n",
        "plt.scatter([i for i in range(len(pred[::500]))],pred[::500],marker='*')\n",
        "plt.scatter([i for i in range(len(pred[::500]))],pred_kmodel_scaled[::500],marker='^')\n",
        "plt.scatter([i for i in range(len(pred[::500]))],pred_svmodel_scaled[::500],marker='<')\n",
        "#plt.scatter([i for i in range(len(pred[::500]))],regression_pred_scaled[::500],marker='>')\n",
        "\n",
        "plt.legend(['Measured','RF','kmodel','SVR'])\n",
        "plt.ylabel('Power[kW]')\n",
        "plt.xlabel('Count')\n",
        "plt.title('Analysed over random data points, '+'Time period: 15-08-2017 to 01-01-2018')\n",
        "plt.figure(figsize=(20, 20))"
      ],
      "metadata": {
        "colab": {
          "base_uri": "https://localhost:8080/",
          "height": 330
        },
        "id": "zEyFhnZo9vYb",
        "outputId": "73890211-194c-4fc0-a28d-e013d89be910"
      },
      "execution_count": 65,
      "outputs": [
        {
          "output_type": "execute_result",
          "data": {
            "text/plain": [
              "<Figure size 1440x1440 with 0 Axes>"
            ]
          },
          "metadata": {},
          "execution_count": 65
        },
        {
          "output_type": "display_data",
          "data": {
            "text/plain": [
              "<Figure size 432x288 with 1 Axes>"
            ],
            "image/png": "[encoded data removed]"
          },
          "metadata": {
            "needs_background": "light"
          }
        },
        {
          "output_type": "display_data",
          "data": {
            "text/plain": [
              "<Figure size 1440x1440 with 0 Axes>"
            ]
          },
          "metadata": {}
        }
      ]
    },
    {
      "cell_type": "code",
      "source": [
        "deviation=[]\n",
        "for i,j in zip(pred,ytest):\n",
        "  deviation.append(j-i)"
      ],
      "metadata": {
        "id": "dhorwkqt9zV9"
      },
      "execution_count": 33,
      "outputs": []
    },
    {
      "cell_type": "code",
      "source": [
        "f=pd.DataFrame({'Deviations':deviation})"
      ],
      "metadata": {
        "id": "G__HYakmZpE1"
      },
      "execution_count": 34,
      "outputs": []
    },
    {
      "cell_type": "code",
      "source": [
        "f['Deviations_shift']=f['Deviations'].shift(1)"
      ],
      "metadata": {
        "id": "cAy5TxJ7Zqmh"
      },
      "execution_count": 35,
      "outputs": []
    },
    {
      "cell_type": "code",
      "source": [
        "f['difference']=f['Deviations'].diff()"
      ],
      "metadata": {
        "id": "Xx4bB0BIZryt"
      },
      "execution_count": 36,
      "outputs": []
    },
    {
      "cell_type": "code",
      "source": [
        "count= [i for i in range(len(ytest))]"
      ],
      "metadata": {
        "id": "NpRM8f5uZs9w"
      },
      "execution_count": 37,
      "outputs": []
    },
    {
      "cell_type": "code",
      "source": [
        "f=f.dropna()"
      ],
      "metadata": {
        "id": "hOCX6vmkZuci"
      },
      "execution_count": 38,
      "outputs": []
    },
    {
      "cell_type": "code",
      "source": [
        "values=[]\n",
        "for i in f['difference']:\n",
        "  if(i>0):\n",
        "    values.append(i)\n",
        "  else:\n",
        "    values.append(-1*i)"
      ],
      "metadata": {
        "id": "Lb6uwHoAZvyn"
      },
      "execution_count": 39,
      "outputs": []
    },
    {
      "cell_type": "code",
      "source": [
        "d=[]\n",
        "for i in f['Deviations']:\n",
        "  d.append(i/1000)"
      ],
      "metadata": {
        "id": "vRAOFiOwZxZz"
      },
      "execution_count": 40,
      "outputs": []
    },
    {
      "cell_type": "code",
      "source": [
        "ucl=4* np.std(d)\n",
        "lcl=-1*ucl\n"
      ],
      "metadata": {
        "id": "FPm8oAaEZ1oD"
      },
      "execution_count": 57,
      "outputs": []
    },
    {
      "cell_type": "code",
      "source": [
        "UCL=[]\n",
        "for i in range(23000):\n",
        "  UCL.append(ucl)"
      ],
      "metadata": {
        "id": "ZMjDlHIIZ8x0"
      },
      "execution_count": 58,
      "outputs": []
    },
    {
      "cell_type": "code",
      "source": [
        "LCL=[]\n",
        "for i in range(23000):\n",
        "  LCL.append(lcl)"
      ],
      "metadata": {
        "id": "BWoSh6DmaBdu"
      },
      "execution_count": 59,
      "outputs": []
    },
    {
      "cell_type": "code",
      "source": [
        "plt.plot(d[:23000],color=\"black\",linewidth=0.4)\n",
        "#plt.scatter([i for i in range(len(zero))], zero) \n",
        "plt.plot(UCL)\n",
        "plt.plot(LCL)\n",
        "plt.xticks(np.arange(0, len(d[:23000])+1, 10000))\n",
        "plt.ylabel('Deviations in Temp(°C)')\n",
        "plt.xlabel('Units')\n",
        "plt.legend(['Deviations','UCL','LCL'])\n",
        "plt.title('Predictions using RF for Generator failure '+ '(On x-axis:1440 units= 10 days)  '+'Time period: 15-08-2017 to 01-01-2018' )"
      ],
      "metadata": {
        "colab": {
          "base_uri": "https://localhost:8080/",
          "height": 312
        },
        "id": "NvDZmOllaEoz",
        "outputId": "abbbf7e9-08e1-466d-9463-93d29579284c"
      },
      "execution_count": 60,
      "outputs": [
        {
          "output_type": "execute_result",
          "data": {
            "text/plain": [
              "Text(0.5, 1.0, 'Predictions using RF for Generator failure (On x-axis:1440 units= 10 days)  Time period: 15-08-2017 to 01-01-2018')"
            ]
          },
          "metadata": {},
          "execution_count": 60
        },
        {
          "output_type": "display_data",
          "data": {
            "text/plain": [
              "<Figure size 432x288 with 1 Axes>"
            ],
            "image/png": "[encoded data removed]"
          },
          "metadata": {
            "needs_background": "light"
          }
        }
      ]
    },
    {
      "cell_type": "code",
      "source": [
        ""
      ],
      "metadata": {
        "id": "LUDVl_twaJXh"
      },
      "execution_count": 60,
      "outputs": []
    }
  ]
}