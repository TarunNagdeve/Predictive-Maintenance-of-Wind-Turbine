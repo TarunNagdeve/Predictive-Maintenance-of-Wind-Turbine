{
  "nbformat": 4,
  "nbformat_minor": 0,
  "metadata": {
    "colab": {
      "name": "Generator failure.ipynb",
      "provenance": [],
      "authorship_tag": "ABX9TyNA+2ueQNpzynoWTBnhloWn",
      "include_colab_link": true
    },
    "kernelspec": {
      "name": "python3",
      "display_name": "Python 3"
    },
    "language_info": {
      "name": "python"
    }
  },
  "cells": [
    {
      "cell_type": "markdown",
      "metadata": {
        "id": "view-in-github",
        "colab_type": "text"
      },
      "source": [
        "<a href=\"https://colab.research.google.com/github/TrunnMosby/Predictive-Maintenance-of-Wind-Turbine/blob/main/Generator_failure.ipynb\" target=\"_parent\"><img src=\"https://colab.research.google.com/assets/colab-badge.svg\" alt=\"Open In Colab\"/></a>"
      ]
    },
    {
      "cell_type": "code",
      "execution_count": null,
      "metadata": {
        "id": "HZKIM1Grogib"
      },
      "outputs": [],
      "source": [
        "# importing libraries\n",
        "import pandas as pd\n",
        "import numpy as np"
      ]
    },
    {
      "cell_type": "code",
      "source": [
        "# importing dataset\n",
        "data=pd.read_csv('/content/gen2.csv')"
      ],
      "metadata": {
        "id": "CzJHk2_BokOH"
      },
      "execution_count": null,
      "outputs": []
    },
    {
      "cell_type": "code",
      "source": [
        "data"
      ],
      "metadata": {
        "colab": {
          "base_uri": "https://localhost:8080/",
          "height": 505
        },
        "id": "PziFiPcepqZb",
        "outputId": "ce887452-1f0c-4c4b-96e8-a6f2b2111105"
      },
      "execution_count": null,
      "outputs": [
        {
          "output_type": "execute_result",
          "data": {
            "text/plain": [
              "        Unnamed: 0  Gen_bearing_temperature  Generator_speed  \\\n",
              "0                0                     43.0            647.1   \n",
              "1                1                     40.0            265.5   \n",
              "2                2                     43.0            293.1   \n",
              "3                3                     39.0           1248.8   \n",
              "4                4                     39.0            291.4   \n",
              "...            ...                      ...              ...   \n",
              "209231      209231                     55.0           1619.8   \n",
              "209232      209232                     42.0              0.0   \n",
              "209233      209233                     64.0           1565.7   \n",
              "209234      209234                     39.0              0.0   \n",
              "209235      209235                     72.0           1619.7   \n",
              "\n",
              "        Gen_Phase3_Temp_Avg  Gen_Bear2_Temp  Gen_Phase1_Temp_Avg  \\\n",
              "0                        57              39                   56   \n",
              "1                        54              35                   54   \n",
              "2                        53              38                   53   \n",
              "3                        63              36                   63   \n",
              "4                        51              34                   51   \n",
              "...                     ...             ...                  ...   \n",
              "209231                   86              65                   89   \n",
              "209232                   46              36                   45   \n",
              "209233                   73              53                   72   \n",
              "209234                   41              34                   41   \n",
              "209235                   95              57                   95   \n",
              "\n",
              "        Gen_Phase2_Temp_Avg  Nacelle_Temperature   Power  \n",
              "0                        57                   28   -1741  \n",
              "1                        54                   28   -1390  \n",
              "2                        54                   28   -1619  \n",
              "3                        63                   27    4862  \n",
              "4                        51                   28   -1365  \n",
              "...                     ...                  ...     ...  \n",
              "209231                   87                   33  192110  \n",
              "209232                   46                   31   -1842  \n",
              "209233                   73                   30  143336  \n",
              "209234                   41                   30   -1828  \n",
              "209235                   95                   28  206419  \n",
              "\n",
              "[209236 rows x 9 columns]"
            ],
            "text/html": [
              "\n",
              "  <div id=\"df-cf21113f-0698-4a4c-921b-fdb3aeaf0182\">\n",
              "    <div class=\"colab-df-container\">\n",
              "      <div>\n",
              "<style scoped>\n",
              "    .dataframe tbody tr th:only-of-type {\n",
              "        vertical-align: middle;\n",
              "    }\n",
              "\n",
              "    .dataframe tbody tr th {\n",
              "        vertical-align: top;\n",
              "    }\n",
              "\n",
              "    .dataframe thead th {\n",
              "        text-align: right;\n",
              "    }\n",
              "</style>\n",
              "<table border=\"1\" class=\"dataframe\">\n",
              "  <thead>\n",
              "    <tr style=\"text-align: right;\">\n",
              "      <th></th>\n",
              "      <th>Unnamed: 0</th>\n",
              "      <th>Gen_bearing_temperature</th>\n",
              "      <th>Generator_speed</th>\n",
              "      <th>Gen_Phase3_Temp_Avg</th>\n",
              "      <th>Gen_Bear2_Temp</th>\n",
              "      <th>Gen_Phase1_Temp_Avg</th>\n",
              "      <th>Gen_Phase2_Temp_Avg</th>\n",
              "      <th>Nacelle_Temperature</th>\n",
              "      <th>Power</th>\n",
              "    </tr>\n",
              "  </thead>\n",
              "  <tbody>\n",
              "    <tr>\n",
              "      <th>0</th>\n",
              "      <td>0</td>\n",
              "      <td>43.0</td>\n",
              "      <td>647.1</td>\n",
              "      <td>57</td>\n",
              "      <td>39</td>\n",
              "      <td>56</td>\n",
              "      <td>57</td>\n",
              "      <td>28</td>\n",
              "      <td>-1741</td>\n",
              "    </tr>\n",
              "    <tr>\n",
              "      <th>1</th>\n",
              "      <td>1</td>\n",
              "      <td>40.0</td>\n",
              "      <td>265.5</td>\n",
              "      <td>54</td>\n",
              "      <td>35</td>\n",
              "      <td>54</td>\n",
              "      <td>54</td>\n",
              "      <td>28</td>\n",
              "      <td>-1390</td>\n",
              "    </tr>\n",
              "    <tr>\n",
              "      <th>2</th>\n",
              "      <td>2</td>\n",
              "      <td>43.0</td>\n",
              "      <td>293.1</td>\n",
              "      <td>53</td>\n",
              "      <td>38</td>\n",
              "      <td>53</td>\n",
              "      <td>54</td>\n",
              "      <td>28</td>\n",
              "      <td>-1619</td>\n",
              "    </tr>\n",
              "    <tr>\n",
              "      <th>3</th>\n",
              "      <td>3</td>\n",
              "      <td>39.0</td>\n",
              "      <td>1248.8</td>\n",
              "      <td>63</td>\n",
              "      <td>36</td>\n",
              "      <td>63</td>\n",
              "      <td>63</td>\n",
              "      <td>27</td>\n",
              "      <td>4862</td>\n",
              "    </tr>\n",
              "    <tr>\n",
              "      <th>4</th>\n",
              "      <td>4</td>\n",
              "      <td>39.0</td>\n",
              "      <td>291.4</td>\n",
              "      <td>51</td>\n",
              "      <td>34</td>\n",
              "      <td>51</td>\n",
              "      <td>51</td>\n",
              "      <td>28</td>\n",
              "      <td>-1365</td>\n",
              "    </tr>\n",
              "    <tr>\n",
              "      <th>...</th>\n",
              "      <td>...</td>\n",
              "      <td>...</td>\n",
              "      <td>...</td>\n",
              "      <td>...</td>\n",
              "      <td>...</td>\n",
              "      <td>...</td>\n",
              "      <td>...</td>\n",
              "      <td>...</td>\n",
              "      <td>...</td>\n",
              "    </tr>\n",
              "    <tr>\n",
              "      <th>209231</th>\n",
              "      <td>209231</td>\n",
              "      <td>55.0</td>\n",
              "      <td>1619.8</td>\n",
              "      <td>86</td>\n",
              "      <td>65</td>\n",
              "      <td>89</td>\n",
              "      <td>87</td>\n",
              "      <td>33</td>\n",
              "      <td>192110</td>\n",
              "    </tr>\n",
              "    <tr>\n",
              "      <th>209232</th>\n",
              "      <td>209232</td>\n",
              "      <td>42.0</td>\n",
              "      <td>0.0</td>\n",
              "      <td>46</td>\n",
              "      <td>36</td>\n",
              "      <td>45</td>\n",
              "      <td>46</td>\n",
              "      <td>31</td>\n",
              "      <td>-1842</td>\n",
              "    </tr>\n",
              "    <tr>\n",
              "      <th>209233</th>\n",
              "      <td>209233</td>\n",
              "      <td>64.0</td>\n",
              "      <td>1565.7</td>\n",
              "      <td>73</td>\n",
              "      <td>53</td>\n",
              "      <td>72</td>\n",
              "      <td>73</td>\n",
              "      <td>30</td>\n",
              "      <td>143336</td>\n",
              "    </tr>\n",
              "    <tr>\n",
              "      <th>209234</th>\n",
              "      <td>209234</td>\n",
              "      <td>39.0</td>\n",
              "      <td>0.0</td>\n",
              "      <td>41</td>\n",
              "      <td>34</td>\n",
              "      <td>41</td>\n",
              "      <td>41</td>\n",
              "      <td>30</td>\n",
              "      <td>-1828</td>\n",
              "    </tr>\n",
              "    <tr>\n",
              "      <th>209235</th>\n",
              "      <td>209235</td>\n",
              "      <td>72.0</td>\n",
              "      <td>1619.7</td>\n",
              "      <td>95</td>\n",
              "      <td>57</td>\n",
              "      <td>95</td>\n",
              "      <td>95</td>\n",
              "      <td>28</td>\n",
              "      <td>206419</td>\n",
              "    </tr>\n",
              "  </tbody>\n",
              "</table>\n",
              "<p>209236 rows × 9 columns</p>\n",
              "</div>\n",
              "      <button class=\"colab-df-convert\" onclick=\"convertToInteractive('df-cf21113f-0698-4a4c-921b-fdb3aeaf0182')\"\n",
              "              title=\"Convert this dataframe to an interactive table.\"\n",
              "              style=\"display:none;\">\n",
              "        \n",
              "  <svg xmlns=\"http://www.w3.org/2000/svg\" height=\"24px\"viewBox=\"0 0 24 24\"\n",
              "       width=\"24px\">\n",
              "    <path d=\"M0 0h24v24H0V0z\" fill=\"none\"/>\n",
              "    <path d=\"M18.56 5.44l.94 2.06.94-2.06 2.06-.94-2.06-.94-.94-2.06-.94 2.06-2.06.94zm-11 1L8.5 8.5l.94-2.06 2.06-.94-2.06-.94L8.5 2.5l-.94 2.06-2.06.94zm10 10l.94 2.06.94-2.06 2.06-.94-2.06-.94-.94-2.06-.94 2.06-2.06.94z\"/><path d=\"M17.41 7.96l-1.37-1.37c-.4-.4-.92-.59-1.43-.59-.52 0-1.04.2-1.43.59L10.3 9.45l-7.72 7.72c-.78.78-.78 2.05 0 2.83L4 21.41c.39.39.9.59 1.41.59.51 0 1.02-.2 1.41-.59l7.78-7.78 2.81-2.81c.8-.78.8-2.07 0-2.86zM5.41 20L4 18.59l7.72-7.72 1.47 1.35L5.41 20z\"/>\n",
              "  </svg>\n",
              "      </button>\n",
              "      \n",
              "  <style>\n",
              "    .colab-df-container {\n",
              "      display:flex;\n",
              "      flex-wrap:wrap;\n",
              "      gap: 12px;\n",
              "    }\n",
              "\n",
              "    .colab-df-convert {\n",
              "      background-color: #E8F0FE;\n",
              "      border: none;\n",
              "      border-radius: 50%;\n",
              "      cursor: pointer;\n",
              "      display: none;\n",
              "      fill: #1967D2;\n",
              "      height: 32px;\n",
              "      padding: 0 0 0 0;\n",
              "      width: 32px;\n",
              "    }\n",
              "\n",
              "    .colab-df-convert:hover {\n",
              "      background-color: #E2EBFA;\n",
              "      box-shadow: 0px 1px 2px rgba(60, 64, 67, 0.3), 0px 1px 3px 1px rgba(60, 64, 67, 0.15);\n",
              "      fill: #174EA6;\n",
              "    }\n",
              "\n",
              "    [theme=dark] .colab-df-convert {\n",
              "      background-color: #3B4455;\n",
              "      fill: #D2E3FC;\n",
              "    }\n",
              "\n",
              "    [theme=dark] .colab-df-convert:hover {\n",
              "      background-color: #434B5C;\n",
              "      box-shadow: 0px 1px 3px 1px rgba(0, 0, 0, 0.15);\n",
              "      filter: drop-shadow(0px 1px 2px rgba(0, 0, 0, 0.3));\n",
              "      fill: #FFFFFF;\n",
              "    }\n",
              "  </style>\n",
              "\n",
              "      <script>\n",
              "        const buttonEl =\n",
              "          document.querySelector('#df-cf21113f-0698-4a4c-921b-fdb3aeaf0182 button.colab-df-convert');\n",
              "        buttonEl.style.display =\n",
              "          google.colab.kernel.accessAllowed ? 'block' : 'none';\n",
              "\n",
              "        async function convertToInteractive(key) {\n",
              "          const element = document.querySelector('#df-cf21113f-0698-4a4c-921b-fdb3aeaf0182');\n",
              "          const dataTable =\n",
              "            await google.colab.kernel.invokeFunction('convertToInteractive',\n",
              "                                                     [key], {});\n",
              "          if (!dataTable) return;\n",
              "\n",
              "          const docLinkHtml = 'Like what you see? Visit the ' +\n",
              "            '<a target=\"_blank\" href=https://colab.research.google.com/notebooks/data_table.ipynb>data table notebook</a>'\n",
              "            + ' to learn more about interactive tables.';\n",
              "          element.innerHTML = '';\n",
              "          dataTable['output_type'] = 'display_data';\n",
              "          await google.colab.output.renderOutput(dataTable, element);\n",
              "          const docLink = document.createElement('div');\n",
              "          docLink.innerHTML = docLinkHtml;\n",
              "          element.appendChild(docLink);\n",
              "        }\n",
              "      </script>\n",
              "    </div>\n",
              "  </div>\n",
              "  "
            ]
          },
          "metadata": {},
          "execution_count": 3
        }
      ]
    },
    {
      "cell_type": "code",
      "source": [
        "import matplotlib.pyplot as plt"
      ],
      "metadata": {
        "id": "TpWDeCfpptkB"
      },
      "execution_count": null,
      "outputs": []
    },
    {
      "cell_type": "code",
      "source": [
        "# Mahanabolis distance filteration\n",
        "MD=pd.read_csv('/content/MD_newdata.csv')"
      ],
      "metadata": {
        "id": "HX5n12mip2-p"
      },
      "execution_count": null,
      "outputs": []
    },
    {
      "cell_type": "code",
      "source": [
        "# Merging both datasets\n",
        "df= pd.merge(data,MD)"
      ],
      "metadata": {
        "id": "SNjQIeRqp4ui"
      },
      "execution_count": null,
      "outputs": []
    },
    {
      "cell_type": "code",
      "source": [
        "# Removing the null values\n",
        "df=df.dropna()"
      ],
      "metadata": {
        "id": "mYBYzbzVp785"
      },
      "execution_count": null,
      "outputs": []
    },
    {
      "cell_type": "code",
      "source": [
        "df=df[df['Power']!=0]"
      ],
      "metadata": {
        "id": "3FnEkTDdp_GV"
      },
      "execution_count": null,
      "outputs": []
    },
    {
      "cell_type": "code",
      "source": [
        "# Filtering outliers\n",
        "max_threshold=df['MD'].quantile(0.85)\n",
        "min_threshold=df['MD'].quantile(0.15)"
      ],
      "metadata": {
        "id": "LktTfwLzqB9u"
      },
      "execution_count": null,
      "outputs": []
    },
    {
      "cell_type": "code",
      "source": [
        "ftest=df[(df['MD']<max_threshold) & (df['MD']>min_threshold)]"
      ],
      "metadata": {
        "id": "dRF8SOMfqD9f"
      },
      "execution_count": null,
      "outputs": []
    },
    {
      "cell_type": "code",
      "source": [
        "ftest"
      ],
      "metadata": {
        "colab": {
          "base_uri": "https://localhost:8080/",
          "height": 505
        },
        "id": "DwoEn2SIqFid",
        "outputId": "7a1d6c74-21c0-4dac-c1b2-2779b986ec67"
      },
      "execution_count": null,
      "outputs": [
        {
          "output_type": "execute_result",
          "data": {
            "text/plain": [
              "        Unnamed: 0  Gen_bearing_temperature  Generator_speed  \\\n",
              "0                1                     40.0            265.5   \n",
              "1                2                     43.0            293.1   \n",
              "2                3                     39.0           1248.8   \n",
              "3                4                     39.0            291.4   \n",
              "4                5                     41.0            957.8   \n",
              "...            ...                      ...              ...   \n",
              "209228      209229                     62.0           1637.7   \n",
              "209229      209230                     38.0              0.0   \n",
              "209230      209231                     55.0           1619.8   \n",
              "209232      209233                     64.0           1565.7   \n",
              "209233      209234                     39.0              0.0   \n",
              "\n",
              "        Gen_Phase3_Temp_Avg  Gen_Bear2_Temp  Gen_Phase1_Temp_Avg  \\\n",
              "0                        54              35                   54   \n",
              "1                        53              38                   53   \n",
              "2                        63              36                   63   \n",
              "3                        51              34                   51   \n",
              "4                        58              38                   57   \n",
              "...                     ...             ...                  ...   \n",
              "209228                   93              71                   96   \n",
              "209229                   41              37                   41   \n",
              "209230                   86              65                   89   \n",
              "209232                   73              53                   72   \n",
              "209233                   41              34                   41   \n",
              "\n",
              "        Gen_Phase2_Temp_Avg  Nacelle_Temperature   Power        MD  \n",
              "0                        54                   28   -1390  2.799417  \n",
              "1                        54                   28   -1619  3.030315  \n",
              "2                        63                   27    4862  3.707309  \n",
              "3                        51                   28   -1365  2.459624  \n",
              "4                        58                   26    4702  3.522508  \n",
              "...                     ...                  ...     ...       ...  \n",
              "209228                   95                   34  231292  3.213454  \n",
              "209229                   41                   32   -1734  3.425543  \n",
              "209230                   87                   33  192110  4.709864  \n",
              "209232                   73                   30  143336  6.503370  \n",
              "209233                   41                   30   -1828  1.883051  \n",
              "\n",
              "[146458 rows x 10 columns]"
            ],
            "text/html": [
              "\n",
              "  <div id=\"df-e052d1cf-b507-48d4-ac03-a32667c40be8\">\n",
              "    <div class=\"colab-df-container\">\n",
              "      <div>\n",
              "<style scoped>\n",
              "    .dataframe tbody tr th:only-of-type {\n",
              "        vertical-align: middle;\n",
              "    }\n",
              "\n",
              "    .dataframe tbody tr th {\n",
              "        vertical-align: top;\n",
              "    }\n",
              "\n",
              "    .dataframe thead th {\n",
              "        text-align: right;\n",
              "    }\n",
              "</style>\n",
              "<table border=\"1\" class=\"dataframe\">\n",
              "  <thead>\n",
              "    <tr style=\"text-align: right;\">\n",
              "      <th></th>\n",
              "      <th>Unnamed: 0</th>\n",
              "      <th>Gen_bearing_temperature</th>\n",
              "      <th>Generator_speed</th>\n",
              "      <th>Gen_Phase3_Temp_Avg</th>\n",
              "      <th>Gen_Bear2_Temp</th>\n",
              "      <th>Gen_Phase1_Temp_Avg</th>\n",
              "      <th>Gen_Phase2_Temp_Avg</th>\n",
              "      <th>Nacelle_Temperature</th>\n",
              "      <th>Power</th>\n",
              "      <th>MD</th>\n",
              "    </tr>\n",
              "  </thead>\n",
              "  <tbody>\n",
              "    <tr>\n",
              "      <th>0</th>\n",
              "      <td>1</td>\n",
              "      <td>40.0</td>\n",
              "      <td>265.5</td>\n",
              "      <td>54</td>\n",
              "      <td>35</td>\n",
              "      <td>54</td>\n",
              "      <td>54</td>\n",
              "      <td>28</td>\n",
              "      <td>-1390</td>\n",
              "      <td>2.799417</td>\n",
              "    </tr>\n",
              "    <tr>\n",
              "      <th>1</th>\n",
              "      <td>2</td>\n",
              "      <td>43.0</td>\n",
              "      <td>293.1</td>\n",
              "      <td>53</td>\n",
              "      <td>38</td>\n",
              "      <td>53</td>\n",
              "      <td>54</td>\n",
              "      <td>28</td>\n",
              "      <td>-1619</td>\n",
              "      <td>3.030315</td>\n",
              "    </tr>\n",
              "    <tr>\n",
              "      <th>2</th>\n",
              "      <td>3</td>\n",
              "      <td>39.0</td>\n",
              "      <td>1248.8</td>\n",
              "      <td>63</td>\n",
              "      <td>36</td>\n",
              "      <td>63</td>\n",
              "      <td>63</td>\n",
              "      <td>27</td>\n",
              "      <td>4862</td>\n",
              "      <td>3.707309</td>\n",
              "    </tr>\n",
              "    <tr>\n",
              "      <th>3</th>\n",
              "      <td>4</td>\n",
              "      <td>39.0</td>\n",
              "      <td>291.4</td>\n",
              "      <td>51</td>\n",
              "      <td>34</td>\n",
              "      <td>51</td>\n",
              "      <td>51</td>\n",
              "      <td>28</td>\n",
              "      <td>-1365</td>\n",
              "      <td>2.459624</td>\n",
              "    </tr>\n",
              "    <tr>\n",
              "      <th>4</th>\n",
              "      <td>5</td>\n",
              "      <td>41.0</td>\n",
              "      <td>957.8</td>\n",
              "      <td>58</td>\n",
              "      <td>38</td>\n",
              "      <td>57</td>\n",
              "      <td>58</td>\n",
              "      <td>26</td>\n",
              "      <td>4702</td>\n",
              "      <td>3.522508</td>\n",
              "    </tr>\n",
              "    <tr>\n",
              "      <th>...</th>\n",
              "      <td>...</td>\n",
              "      <td>...</td>\n",
              "      <td>...</td>\n",
              "      <td>...</td>\n",
              "      <td>...</td>\n",
              "      <td>...</td>\n",
              "      <td>...</td>\n",
              "      <td>...</td>\n",
              "      <td>...</td>\n",
              "      <td>...</td>\n",
              "    </tr>\n",
              "    <tr>\n",
              "      <th>209228</th>\n",
              "      <td>209229</td>\n",
              "      <td>62.0</td>\n",
              "      <td>1637.7</td>\n",
              "      <td>93</td>\n",
              "      <td>71</td>\n",
              "      <td>96</td>\n",
              "      <td>95</td>\n",
              "      <td>34</td>\n",
              "      <td>231292</td>\n",
              "      <td>3.213454</td>\n",
              "    </tr>\n",
              "    <tr>\n",
              "      <th>209229</th>\n",
              "      <td>209230</td>\n",
              "      <td>38.0</td>\n",
              "      <td>0.0</td>\n",
              "      <td>41</td>\n",
              "      <td>37</td>\n",
              "      <td>41</td>\n",
              "      <td>41</td>\n",
              "      <td>32</td>\n",
              "      <td>-1734</td>\n",
              "      <td>3.425543</td>\n",
              "    </tr>\n",
              "    <tr>\n",
              "      <th>209230</th>\n",
              "      <td>209231</td>\n",
              "      <td>55.0</td>\n",
              "      <td>1619.8</td>\n",
              "      <td>86</td>\n",
              "      <td>65</td>\n",
              "      <td>89</td>\n",
              "      <td>87</td>\n",
              "      <td>33</td>\n",
              "      <td>192110</td>\n",
              "      <td>4.709864</td>\n",
              "    </tr>\n",
              "    <tr>\n",
              "      <th>209232</th>\n",
              "      <td>209233</td>\n",
              "      <td>64.0</td>\n",
              "      <td>1565.7</td>\n",
              "      <td>73</td>\n",
              "      <td>53</td>\n",
              "      <td>72</td>\n",
              "      <td>73</td>\n",
              "      <td>30</td>\n",
              "      <td>143336</td>\n",
              "      <td>6.503370</td>\n",
              "    </tr>\n",
              "    <tr>\n",
              "      <th>209233</th>\n",
              "      <td>209234</td>\n",
              "      <td>39.0</td>\n",
              "      <td>0.0</td>\n",
              "      <td>41</td>\n",
              "      <td>34</td>\n",
              "      <td>41</td>\n",
              "      <td>41</td>\n",
              "      <td>30</td>\n",
              "      <td>-1828</td>\n",
              "      <td>1.883051</td>\n",
              "    </tr>\n",
              "  </tbody>\n",
              "</table>\n",
              "<p>146458 rows × 10 columns</p>\n",
              "</div>\n",
              "      <button class=\"colab-df-convert\" onclick=\"convertToInteractive('df-e052d1cf-b507-48d4-ac03-a32667c40be8')\"\n",
              "              title=\"Convert this dataframe to an interactive table.\"\n",
              "              style=\"display:none;\">\n",
              "        \n",
              "  <svg xmlns=\"http://www.w3.org/2000/svg\" height=\"24px\"viewBox=\"0 0 24 24\"\n",
              "       width=\"24px\">\n",
              "    <path d=\"M0 0h24v24H0V0z\" fill=\"none\"/>\n",
              "    <path d=\"M18.56 5.44l.94 2.06.94-2.06 2.06-.94-2.06-.94-.94-2.06-.94 2.06-2.06.94zm-11 1L8.5 8.5l.94-2.06 2.06-.94-2.06-.94L8.5 2.5l-.94 2.06-2.06.94zm10 10l.94 2.06.94-2.06 2.06-.94-2.06-.94-.94-2.06-.94 2.06-2.06.94z\"/><path d=\"M17.41 7.96l-1.37-1.37c-.4-.4-.92-.59-1.43-.59-.52 0-1.04.2-1.43.59L10.3 9.45l-7.72 7.72c-.78.78-.78 2.05 0 2.83L4 21.41c.39.39.9.59 1.41.59.51 0 1.02-.2 1.41-.59l7.78-7.78 2.81-2.81c.8-.78.8-2.07 0-2.86zM5.41 20L4 18.59l7.72-7.72 1.47 1.35L5.41 20z\"/>\n",
              "  </svg>\n",
              "      </button>\n",
              "      \n",
              "  <style>\n",
              "    .colab-df-container {\n",
              "      display:flex;\n",
              "      flex-wrap:wrap;\n",
              "      gap: 12px;\n",
              "    }\n",
              "\n",
              "    .colab-df-convert {\n",
              "      background-color: #E8F0FE;\n",
              "      border: none;\n",
              "      border-radius: 50%;\n",
              "      cursor: pointer;\n",
              "      display: none;\n",
              "      fill: #1967D2;\n",
              "      height: 32px;\n",
              "      padding: 0 0 0 0;\n",
              "      width: 32px;\n",
              "    }\n",
              "\n",
              "    .colab-df-convert:hover {\n",
              "      background-color: #E2EBFA;\n",
              "      box-shadow: 0px 1px 2px rgba(60, 64, 67, 0.3), 0px 1px 3px 1px rgba(60, 64, 67, 0.15);\n",
              "      fill: #174EA6;\n",
              "    }\n",
              "\n",
              "    [theme=dark] .colab-df-convert {\n",
              "      background-color: #3B4455;\n",
              "      fill: #D2E3FC;\n",
              "    }\n",
              "\n",
              "    [theme=dark] .colab-df-convert:hover {\n",
              "      background-color: #434B5C;\n",
              "      box-shadow: 0px 1px 3px 1px rgba(0, 0, 0, 0.15);\n",
              "      filter: drop-shadow(0px 1px 2px rgba(0, 0, 0, 0.3));\n",
              "      fill: #FFFFFF;\n",
              "    }\n",
              "  </style>\n",
              "\n",
              "      <script>\n",
              "        const buttonEl =\n",
              "          document.querySelector('#df-e052d1cf-b507-48d4-ac03-a32667c40be8 button.colab-df-convert');\n",
              "        buttonEl.style.display =\n",
              "          google.colab.kernel.accessAllowed ? 'block' : 'none';\n",
              "\n",
              "        async function convertToInteractive(key) {\n",
              "          const element = document.querySelector('#df-e052d1cf-b507-48d4-ac03-a32667c40be8');\n",
              "          const dataTable =\n",
              "            await google.colab.kernel.invokeFunction('convertToInteractive',\n",
              "                                                     [key], {});\n",
              "          if (!dataTable) return;\n",
              "\n",
              "          const docLinkHtml = 'Like what you see? Visit the ' +\n",
              "            '<a target=\"_blank\" href=https://colab.research.google.com/notebooks/data_table.ipynb>data table notebook</a>'\n",
              "            + ' to learn more about interactive tables.';\n",
              "          element.innerHTML = '';\n",
              "          dataTable['output_type'] = 'display_data';\n",
              "          await google.colab.output.renderOutput(dataTable, element);\n",
              "          const docLink = document.createElement('div');\n",
              "          docLink.innerHTML = docLinkHtml;\n",
              "          element.appendChild(docLink);\n",
              "        }\n",
              "      </script>\n",
              "    </div>\n",
              "  </div>\n",
              "  "
            ]
          },
          "metadata": {},
          "execution_count": 12
        }
      ]
    },
    {
      "cell_type": "code",
      "source": [
        "# Selecting input and output for training the model\n",
        "features=ftest[['Generator_speed', 'Gen_Phase3_Temp_Avg',\t'Gen_Bear2_Temp',\t'Gen_Phase1_Temp_Avg',\t'Gen_Phase2_Temp_Avg',\t'Nacelle_Temperature',\t'Power'\t]]\n",
        "labels=ftest['Gen_bearing_temperature']"
      ],
      "metadata": {
        "id": "5QR-wJVeqGxB"
      },
      "execution_count": null,
      "outputs": []
    },
    {
      "cell_type": "code",
      "source": [
        "# Normalizing the data\n",
        "from sklearn.preprocessing import StandardScaler\n",
        "sc=StandardScaler()\n",
        "x_sc=sc.fit_transform(features)"
      ],
      "metadata": {
        "id": "N_Pxu-Uqs5ed"
      },
      "execution_count": null,
      "outputs": []
    },
    {
      "cell_type": "code",
      "source": [
        "# Spliting the data into 70% train and 30% test\n",
        "xtrain=x_sc[:102505]\n",
        "xtest=x_sc[102505:]\n",
        "ytrain=labels[:102505]\n",
        "ytest=labels[102505:]"
      ],
      "metadata": {
        "id": "4IHTBq7Gs5xN"
      },
      "execution_count": null,
      "outputs": []
    },
    {
      "cell_type": "code",
      "source": [
        "from sklearn.ensemble import RandomForestRegressor\n",
        "from sklearn.metrics import mean_squared_error as mse\n",
        "from sklearn.metrics import mean_absolute_error as mae"
      ],
      "metadata": {
        "id": "QVNZ8dgWtC2T"
      },
      "execution_count": null,
      "outputs": []
    },
    {
      "cell_type": "code",
      "source": [
        "# training the random forest model\n",
        "gmodel=RandomForestRegressor()\n",
        "gmodel.fit(xtrain,ytrain)\n",
        "pred=gmodel.predict(xtest)\n",
        "train_pred= gmodel.predict(xtrain)"
      ],
      "metadata": {
        "id": "fns2TFcDtNx-"
      },
      "execution_count": null,
      "outputs": []
    },
    {
      "cell_type": "code",
      "source": [
        "# RMSE\n",
        "print(np.sqrt(mse(pred,ytest)))"
      ],
      "metadata": {
        "colab": {
          "base_uri": "https://localhost:8080/"
        },
        "id": "vu2XdKiXtObO",
        "outputId": "183515d6-684f-4dbe-d262-e01d5bf011ee"
      },
      "execution_count": null,
      "outputs": [
        {
          "output_type": "stream",
          "name": "stdout",
          "text": [
            "3.2914015849405027\n"
          ]
        }
      ]
    },
    {
      "cell_type": "code",
      "source": [
        "#MAE\n",
        "print((mae(pred,ytest)))"
      ],
      "metadata": {
        "colab": {
          "base_uri": "https://localhost:8080/"
        },
        "id": "H-EZ51hbtSEY",
        "outputId": "3121cc2b-9db0-4fe1-a545-834fc8a1942b"
      },
      "execution_count": null,
      "outputs": [
        {
          "output_type": "stream",
          "name": "stdout",
          "text": [
            "2.08558590774646\n"
          ]
        }
      ]
    },
    {
      "cell_type": "code",
      "source": [
        "# Testing the model over random data points\n",
        "plt.plot([i for i in range(len(pred[::500]))],ytest[::500],linestyle='dashed',color='black',linewidth=0.8)\n",
        "\n",
        "plt.scatter([i for i in range(len(pred[::500]))],pred[::500],marker='*')\n",
        "\n",
        "\n",
        "plt.legend(['Measured','RF'])\n",
        "plt.ylabel('Temp(°C)')\n",
        "plt.xlabel('Count')\n",
        "plt.title('Analysed over random data points, '+'Time period: 15-08-2017 to 01-01-2018')\n",
        "plt.figure(figsize=(20, 20))"
      ],
      "metadata": {
        "colab": {
          "base_uri": "https://localhost:8080/",
          "height": 330
        },
        "id": "6W36ADzcuDA5",
        "outputId": "48a49aa9-a5e4-4110-ac3c-942b28169ce6"
      },
      "execution_count": null,
      "outputs": [
        {
          "output_type": "execute_result",
          "data": {
            "text/plain": [
              "<Figure size 1440x1440 with 0 Axes>"
            ]
          },
          "metadata": {},
          "execution_count": 22
        },
        {
          "output_type": "display_data",
          "data": {
            "text/plain": [
              "<Figure size 432x288 with 1 Axes>"
            ],
            "image/png": "[encoded data removed]"
          },
          "metadata": {
            "needs_background": "light"
          }
        },
        {
          "output_type": "display_data",
          "data": {
            "text/plain": [
              "<Figure size 1440x1440 with 0 Axes>"
            ]
          },
          "metadata": {}
        }
      ]
    },
    {
      "cell_type": "code",
      "source": [
        "# Creating a dataframe to note the deviations\n",
        "deviation=[]\n",
        "\n",
        "for i,j in zip(pred,ytest):\n",
        "  deviation.append(j-i)"
      ],
      "metadata": {
        "id": "AvMBSeJouNHO"
      },
      "execution_count": null,
      "outputs": []
    },
    {
      "cell_type": "code",
      "source": [
        "f=pd.DataFrame({'Deviations':deviation})"
      ],
      "metadata": {
        "id": "e2bMa44YuS_E"
      },
      "execution_count": null,
      "outputs": []
    },
    {
      "cell_type": "code",
      "source": [
        "f['Deviations_shift']=f['Deviations'].shift(1)"
      ],
      "metadata": {
        "id": "KWaMZ9kHuYGU"
      },
      "execution_count": null,
      "outputs": []
    },
    {
      "cell_type": "code",
      "source": [
        "f['difference']=f['Deviations'].diff()"
      ],
      "metadata": {
        "id": "ZvluxRVIuZgq"
      },
      "execution_count": null,
      "outputs": []
    },
    {
      "cell_type": "code",
      "source": [
        "count= [i for i in range(len(ytest))]"
      ],
      "metadata": {
        "id": "lroC8_nLua-4"
      },
      "execution_count": null,
      "outputs": []
    },
    {
      "cell_type": "code",
      "source": [
        "f=f.dropna()"
      ],
      "metadata": {
        "id": "GQkTJ7v3ucje"
      },
      "execution_count": null,
      "outputs": []
    },
    {
      "cell_type": "code",
      "source": [
        "values=[]\n",
        "for i in f['difference']:\n",
        "  if(i>0):\n",
        "    values.append(i)\n",
        "  else:\n",
        "    values.append(-1*i)"
      ],
      "metadata": {
        "id": "HXpyWO2Fud6-"
      },
      "execution_count": null,
      "outputs": []
    },
    {
      "cell_type": "code",
      "source": [
        "ucl=3* np.std(f['Deviations'])\n",
        "lcl=-1*ucl"
      ],
      "metadata": {
        "id": "j-rHPxOJuf_w"
      },
      "execution_count": null,
      "outputs": []
    },
    {
      "cell_type": "code",
      "source": [
        "UCL=[]\n",
        "for i in range(23000):\n",
        "  UCL.append(ucl)"
      ],
      "metadata": {
        "id": "Vwcr0-2Euh6t"
      },
      "execution_count": null,
      "outputs": []
    },
    {
      "cell_type": "code",
      "source": [
        "LCL=[]\n",
        "for i in range(23000):\n",
        "  LCL.append(lcl)"
      ],
      "metadata": {
        "id": "nR-STwyGujcE"
      },
      "execution_count": null,
      "outputs": []
    },
    {
      "cell_type": "code",
      "source": [
        "r=[i for i in f['Deviations'].iloc[5000:28000]]"
      ],
      "metadata": {
        "id": "n2UoH-B9ulqC"
      },
      "execution_count": null,
      "outputs": []
    },
    {
      "cell_type": "code",
      "source": [
        "plt.plot(r,color=\"black\",linewidth=0.4)\n",
        "plt.plot(UCL)\n",
        "plt.plot(LCL)\n",
        "plt.xticks(np.arange(0, len(r)+1, 10000))\n",
        "plt.ylabel('Deviations in Temp(°C)')\n",
        "plt.xlabel('Units')\n",
        "plt.legend(['Deviations','UCL','LCL'])\n",
        "plt.title('Predictions using RF for Generator failure '+ '(On x-axis:1440 units= 10 days)  '+'Time period: 15-08-2017 to 01-01-2018' )\n"
      ],
      "metadata": {
        "colab": {
          "base_uri": "https://localhost:8080/",
          "height": 312
        },
        "id": "iD7XPwRguqYb",
        "outputId": "f404abbe-dea7-49d2-f1c2-d38c6b25994f"
      },
      "execution_count": null,
      "outputs": [
        {
          "output_type": "execute_result",
          "data": {
            "text/plain": [
              "Text(0.5, 1.0, 'Predictions using RF for Generator failure (On x-axis:1440 units= 10 days)  Time period: 15-08-2017 to 01-01-2018')"
            ]
          },
          "metadata": {},
          "execution_count": 35
        },
        {
          "output_type": "display_data",
          "data": {
            "text/plain": [
              "<Figure size 432x288 with 1 Axes>"
            ],
            "image/png": "[encoded data removed]"
          },
          "metadata": {
            "needs_background": "light"
          }
        }
      ]
    },
    {
      "cell_type": "code",
      "source": [
        ""
      ],
      "metadata": {
        "id": "UHLo79POus49"
      },
      "execution_count": null,
      "outputs": []
    }
  ]
}